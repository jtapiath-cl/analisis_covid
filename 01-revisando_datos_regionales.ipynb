{
 "metadata": {
  "language_info": {
   "codemirror_mode": {
    "name": "ipython",
    "version": 3
   },
   "file_extension": ".py",
   "mimetype": "text/x-python",
   "name": "python",
   "nbconvert_exporter": "python",
   "pygments_lexer": "ipython3",
   "version": 3
  },
  "orig_nbformat": 2,
  "kernelspec": {
   "name": "python_defaultSpec_1595428502479",
   "display_name": "Python 3.8.3 64-bit ('analize': conda)"
  }
 },
 "nbformat": 4,
 "nbformat_minor": 2,
 "cells": [
  {
   "cell_type": "markdown",
   "metadata": {},
   "source": [
    "# Revisión de consistencia de datos\n",
    "## Configuración inicial del ambiente\n",
    "Ejecuto el primer script fuente (`src/00-setup.py`) para obtener y/o refrescar los datos.\n"
   ]
  },
  {
   "cell_type": "code",
   "execution_count": 1,
   "metadata": {
    "tags": []
   },
   "outputs": [
    {
     "output_type": "stream",
     "name": "stdout",
     "text": "[ INF - 2020-07-22 21:05:59 (jtapia) ] Configurando el entorno.\n[ INF - 2020-07-22 21:05:59 (jtapia) ] Obteniendo data del origen remoto...\n[ INF - 2020-07-22 21:05:59 (jtapia) ] Clonando el repositorio de Git con la data original...\n[ ERR - 2020-07-22 21:05:59 (jtapia) ] El directorio ya existe.\n[ INF - 2020-07-22 21:05:59 (jtapia) ] Refrescando los datos...\n[ INF - 2020-07-22 21:06:01 (jtapia) ] Datos refrescados.\n"
    }
   ],
   "source": [
    "%run -i src/00-setup.py"
   ]
  },
  {
   "cell_type": "markdown",
   "metadata": {},
   "source": [
    "## Configuración del notebook\n",
    "\n",
    "Importo las librerias de Python que voy a usar: `os`, `numpy` y `pandas`."
   ]
  },
  {
   "cell_type": "code",
   "execution_count": 2,
   "metadata": {},
   "outputs": [],
   "source": [
    "import os\n",
    "import numpy as np\n",
    "import pandas as pd"
   ]
  },
  {
   "cell_type": "markdown",
   "metadata": {},
   "source": [
    "#### Limpieza"
   ]
  },
  {
   "cell_type": "code",
   "execution_count": 3,
   "metadata": {},
   "outputs": [],
   "source": [
    "del Repo, current_wd, git_file, git_url, new_wd"
   ]
  },
  {
   "cell_type": "markdown",
   "metadata": {},
   "source": [
    "## Definición de funciones y variables\n",
    "Defino alguna variables para manejar de manera más fácil el entorno, para ir directo al resultado de los productos de datos. También defino alguna funciones auxiliares para labores repetitivas."
   ]
  },
  {
   "cell_type": "code",
   "execution_count": 4,
   "metadata": {},
   "outputs": [],
   "source": [
    "folder = os.path.join(os.path.abspath(\"\"), \"data\", \"output\")\n",
    "prod1_folder = os.path.join(folder, \"producto1\")\n",
    "prod2_folder = os.path.join(folder, \"producto2\")\n",
    "prod4_folder = os.path.join(folder, \"producto4\")\n",
    "prod5_folder = os.path.join(folder, \"producto5\")\n",
    "prod6_folder = os.path.join(folder, \"producto6\", \"bulk\")\n",
    "prod11_folder = os.path.join(folder, \"producto11\", \"bulk\")"
   ]
  },
  {
   "cell_type": "code",
   "execution_count": 5,
   "metadata": {},
   "outputs": [],
   "source": [
    "def get_sample_comp_1(input: pd.DataFrame, prod_num: int, sum: bool) -> None:\n",
    "    query_str = \"base_dt == '2020-07-10' and (cod_region == 15)\"\n",
    "    columns_select = [\"base_dt\", \"cod_region\", \"casos_total\"]\n",
    "    print_str = \"Datos del producto {0}\"\n",
    "    if sum == True:\n",
    "        tmp_df = input.query(query_str)[columns_select].groupby(\"base_dt\")[\"casos_total\"].sum()\n",
    "    else:\n",
    "        tmp_df = input.query(query_str)[columns_select]\n",
    "    print(print_str.format(prod_num), \"\\n---\")\n",
    "    print(tmp_df, \"\\n\\n\")\n",
    "    del tmp_df\n",
    "    return None"
   ]
  },
  {
   "cell_type": "code",
   "execution_count": 6,
   "metadata": {},
   "outputs": [],
   "source": [
    "def get_sample_comp_2(input: pd.DataFrame, prod_num: int, sum: bool) -> None:\n",
    "    if prod_num == 4:\n",
    "        query_str = \"base_dt == '2020-07-10' and cod_region > 0\"\n",
    "    else:\n",
    "        query_str = \"base_dt == '2020-07-10'\"\n",
    "    columns_select = [\"base_dt\", \"casos_total\"]\n",
    "    print_str = \"Datos del producto {0}\"\n",
    "    if sum == True:\n",
    "        tmp_df = input.query(query_str)[columns_select].groupby(\"base_dt\")[\"casos_total\"].sum()\n",
    "    else:\n",
    "        tmp_df = input.query(query_str)[columns_select]\n",
    "    print(print_str.format(prod_num), \"\\n---\")\n",
    "    print(tmp_df, \"\\n\\n\")\n",
    "    del tmp_df\n",
    "    return None"
   ]
  },
  {
   "cell_type": "code",
   "execution_count": 7,
   "metadata": {},
   "outputs": [],
   "source": [
    "def parse_numbers_to_str(value: str) -> float:\n",
    "    if value == \"-\":\n",
    "        return None\n",
    "    else:\n",
    "        return float(value)"
   ]
  },
  {
   "cell_type": "code",
   "execution_count": 8,
   "metadata": {},
   "outputs": [],
   "source": [
    "def accum_data(input_str: str, accum_df: pd.DataFrame,\n",
    "                base_folder: str, column_change: dict) -> pd.DataFrame:\n",
    "    df_tmp = pd.read_csv(os.path.join(base_folder, input_str))\n",
    "    date_file = input_str[:10]\n",
    "    df_tmp[\"base_dt\"] = date_file\n",
    "    df_tmp.rename(columns = column_change, inplace = True)\n",
    "    accum_df = pd.concat([accum_df, df_tmp])\n",
    "    del df_tmp\n",
    "    return accum_df"
   ]
  },
  {
   "cell_type": "markdown",
   "metadata": {},
   "source": [
    "## Datos del producto 1 (casos totales por comuna, incremental)\n",
    "El producto 1 consta de sólo un archvo, por lo que se lee el CSV y se le cambian los nombres a las columnas para obtener consistencia."
   ]
  },
  {
   "cell_type": "code",
   "execution_count": 9,
   "metadata": {},
   "outputs": [],
   "source": [
    "column_rename = {\"Region\": \"region\",\n",
    "                    \"Codigo region\": \"cod_region\",\n",
    "                    \"Comuna\": \"comuna\",\n",
    "                    \"Codigo comuna\": \"cod_comuna\",\n",
    "                    \"Poblacion\": \"poblacion\",\n",
    "                    \"Fecha\": \"base_dt\",\n",
    "                    \"Casos confirmados\": \"casos_total\"}\n",
    "\n",
    "df_prod1 = pd.read_csv(os.path.join(prod1_folder, \"Covid-19_std.csv\"))\n",
    "df_prod1.rename(columns = column_rename, inplace = True)"
   ]
  },
  {
   "cell_type": "code",
   "execution_count": 10,
   "metadata": {},
   "outputs": [
    {
     "output_type": "execute_result",
     "data": {
      "text/plain": "               region  cod_region                          comuna  cod_comuna  \\\n0  Arica y Parinacota          15                           Arica     15101.0   \n1  Arica y Parinacota          15                       Camarones     15102.0   \n2  Arica y Parinacota          15                   General Lagos     15202.0   \n3  Arica y Parinacota          15                           Putre     15201.0   \n4  Arica y Parinacota          15  Desconocido Arica y Parinacota         NaN   \n\n   poblacion     base_dt  casos_total  \n0   247552.0  2020-03-30          6.0  \n1     1233.0  2020-03-30          0.0  \n2      810.0  2020-03-30          0.0  \n3     2515.0  2020-03-30          0.0  \n4        NaN  2020-03-30          NaN  ",
      "text/html": "<div>\n<style scoped>\n    .dataframe tbody tr th:only-of-type {\n        vertical-align: middle;\n    }\n\n    .dataframe tbody tr th {\n        vertical-align: top;\n    }\n\n    .dataframe thead th {\n        text-align: right;\n    }\n</style>\n<table border=\"1\" class=\"dataframe\">\n  <thead>\n    <tr style=\"text-align: right;\">\n      <th></th>\n      <th>region</th>\n      <th>cod_region</th>\n      <th>comuna</th>\n      <th>cod_comuna</th>\n      <th>poblacion</th>\n      <th>base_dt</th>\n      <th>casos_total</th>\n    </tr>\n  </thead>\n  <tbody>\n    <tr>\n      <th>0</th>\n      <td>Arica y Parinacota</td>\n      <td>15</td>\n      <td>Arica</td>\n      <td>15101.0</td>\n      <td>247552.0</td>\n      <td>2020-03-30</td>\n      <td>6.0</td>\n    </tr>\n    <tr>\n      <th>1</th>\n      <td>Arica y Parinacota</td>\n      <td>15</td>\n      <td>Camarones</td>\n      <td>15102.0</td>\n      <td>1233.0</td>\n      <td>2020-03-30</td>\n      <td>0.0</td>\n    </tr>\n    <tr>\n      <th>2</th>\n      <td>Arica y Parinacota</td>\n      <td>15</td>\n      <td>General Lagos</td>\n      <td>15202.0</td>\n      <td>810.0</td>\n      <td>2020-03-30</td>\n      <td>0.0</td>\n    </tr>\n    <tr>\n      <th>3</th>\n      <td>Arica y Parinacota</td>\n      <td>15</td>\n      <td>Putre</td>\n      <td>15201.0</td>\n      <td>2515.0</td>\n      <td>2020-03-30</td>\n      <td>0.0</td>\n    </tr>\n    <tr>\n      <th>4</th>\n      <td>Arica y Parinacota</td>\n      <td>15</td>\n      <td>Desconocido Arica y Parinacota</td>\n      <td>NaN</td>\n      <td>NaN</td>\n      <td>2020-03-30</td>\n      <td>NaN</td>\n    </tr>\n  </tbody>\n</table>\n</div>"
     },
     "metadata": {},
     "execution_count": 10
    }
   ],
   "source": [
    "df_prod1.head()"
   ]
  },
  {
   "cell_type": "code",
   "execution_count": 11,
   "metadata": {},
   "outputs": [
    {
     "output_type": "execute_result",
     "data": {
      "text/plain": "(12670, 7)"
     },
     "metadata": {},
     "execution_count": 11
    }
   ],
   "source": [
    "df_prod1.shape"
   ]
  },
  {
   "cell_type": "code",
   "execution_count": 12,
   "metadata": {},
   "outputs": [
    {
     "output_type": "execute_result",
     "data": {
      "text/plain": "         cod_region    cod_comuna      poblacion   casos_total\ncount  12670.000000  12110.000000   12110.000000  12251.000000\nmean       8.784530   9034.997110   56237.890173    335.377030\nstd        3.879263   3812.783311   88821.006783   1339.836198\nmin        1.000000   1101.000000     137.000000      0.000000\n25%        6.000000   6109.000000    9546.000000      1.000000\n50%        8.000000   8313.500000   19770.000000     15.000000\n75%       13.000000  13103.000000   56058.000000     87.000000\nmax       16.000000  16305.000000  645909.000000  21568.000000",
      "text/html": "<div>\n<style scoped>\n    .dataframe tbody tr th:only-of-type {\n        vertical-align: middle;\n    }\n\n    .dataframe tbody tr th {\n        vertical-align: top;\n    }\n\n    .dataframe thead th {\n        text-align: right;\n    }\n</style>\n<table border=\"1\" class=\"dataframe\">\n  <thead>\n    <tr style=\"text-align: right;\">\n      <th></th>\n      <th>cod_region</th>\n      <th>cod_comuna</th>\n      <th>poblacion</th>\n      <th>casos_total</th>\n    </tr>\n  </thead>\n  <tbody>\n    <tr>\n      <th>count</th>\n      <td>12670.000000</td>\n      <td>12110.000000</td>\n      <td>12110.000000</td>\n      <td>12251.000000</td>\n    </tr>\n    <tr>\n      <th>mean</th>\n      <td>8.784530</td>\n      <td>9034.997110</td>\n      <td>56237.890173</td>\n      <td>335.377030</td>\n    </tr>\n    <tr>\n      <th>std</th>\n      <td>3.879263</td>\n      <td>3812.783311</td>\n      <td>88821.006783</td>\n      <td>1339.836198</td>\n    </tr>\n    <tr>\n      <th>min</th>\n      <td>1.000000</td>\n      <td>1101.000000</td>\n      <td>137.000000</td>\n      <td>0.000000</td>\n    </tr>\n    <tr>\n      <th>25%</th>\n      <td>6.000000</td>\n      <td>6109.000000</td>\n      <td>9546.000000</td>\n      <td>1.000000</td>\n    </tr>\n    <tr>\n      <th>50%</th>\n      <td>8.000000</td>\n      <td>8313.500000</td>\n      <td>19770.000000</td>\n      <td>15.000000</td>\n    </tr>\n    <tr>\n      <th>75%</th>\n      <td>13.000000</td>\n      <td>13103.000000</td>\n      <td>56058.000000</td>\n      <td>87.000000</td>\n    </tr>\n    <tr>\n      <th>max</th>\n      <td>16.000000</td>\n      <td>16305.000000</td>\n      <td>645909.000000</td>\n      <td>21568.000000</td>\n    </tr>\n  </tbody>\n</table>\n</div>"
     },
     "metadata": {},
     "execution_count": 12
    }
   ],
   "source": [
    "df_prod1.describe()"
   ]
  },
  {
   "cell_type": "code",
   "execution_count": 13,
   "metadata": {},
   "outputs": [
    {
     "output_type": "execute_result",
     "data": {
      "text/plain": "35"
     },
     "metadata": {},
     "execution_count": 13
    }
   ],
   "source": [
    "df_prod1.base_dt.nunique()"
   ]
  },
  {
   "cell_type": "markdown",
   "metadata": {},
   "source": [
    "## Datos del producto 2 (casos totales por comuna)\n",
    "Los datos del producto 2 están separados en varios archivos (uno por fecha), por lo que se crea un DataFrame vacío, se obtiene una lista con todos los archivos CSV que existen en la carpeta, se leen todos, se les cambia el nombre de las columnas, y finalmente se concatenan al acumulador. A los datos intermedios se les agrega una columna nueva, `base_dt`, que refleja la fecha del informe leído."
   ]
  },
  {
   "cell_type": "code",
   "execution_count": 14,
   "metadata": {
    "tags": []
   },
   "outputs": [],
   "source": [
    "column_names = [\"region\", \"cod_region\", \"comuna\", \"cod_comuna\", \"poblacion\", \"casos_total\", \"base_dt\"]\n",
    "column_rename = {\"Region\": \"region\", \n",
    "                    \"Codigo region\": \"cod_region\", \n",
    "                    \"Comuna\": \"comuna\", \n",
    "                    \"Codigo comuna\": \"cod_comuna\",\n",
    "                    \"Poblacion\": \"poblacion\", \n",
    "                    \"Casos Confirmados\": \"casos_total\"}\n",
    "\n",
    "df_prod2 = pd.DataFrame(columns = column_names)\n",
    "prod2_files = [csv for csv in os.listdir(prod2_folder) if \"csv\" in csv]\n",
    "\n",
    "for csv in prod2_files:\n",
    "    df_prod2 = accum_data(input_str = csv, \n",
    "                            accum_df = df_prod2,\n",
    "                            base_folder = prod2_folder, \n",
    "                            column_change = column_rename)"
   ]
  },
  {
   "cell_type": "code",
   "execution_count": 15,
   "metadata": {},
   "outputs": [
    {
     "output_type": "execute_result",
     "data": {
      "text/plain": "               region cod_region                          comuna  cod_comuna  \\\n0  Arica y Parinacota         15                           Arica     15101.0   \n1  Arica y Parinacota         15                       Camarones     15102.0   \n2  Arica y Parinacota         15                   General Lagos     15202.0   \n3  Arica y Parinacota         15                           Putre     15201.0   \n4  Arica y Parinacota         15  Desconocido Arica y Parinacota         NaN   \n\n   poblacion  casos_total     base_dt  \n0   247552.0       1046.0  2020-06-12  \n1     1233.0          0.0  2020-06-12  \n2      810.0          0.0  2020-06-12  \n3     2515.0          2.0  2020-06-12  \n4        NaN          NaN  2020-06-12  ",
      "text/html": "<div>\n<style scoped>\n    .dataframe tbody tr th:only-of-type {\n        vertical-align: middle;\n    }\n\n    .dataframe tbody tr th {\n        vertical-align: top;\n    }\n\n    .dataframe thead th {\n        text-align: right;\n    }\n</style>\n<table border=\"1\" class=\"dataframe\">\n  <thead>\n    <tr style=\"text-align: right;\">\n      <th></th>\n      <th>region</th>\n      <th>cod_region</th>\n      <th>comuna</th>\n      <th>cod_comuna</th>\n      <th>poblacion</th>\n      <th>casos_total</th>\n      <th>base_dt</th>\n    </tr>\n  </thead>\n  <tbody>\n    <tr>\n      <th>0</th>\n      <td>Arica y Parinacota</td>\n      <td>15</td>\n      <td>Arica</td>\n      <td>15101.0</td>\n      <td>247552.0</td>\n      <td>1046.0</td>\n      <td>2020-06-12</td>\n    </tr>\n    <tr>\n      <th>1</th>\n      <td>Arica y Parinacota</td>\n      <td>15</td>\n      <td>Camarones</td>\n      <td>15102.0</td>\n      <td>1233.0</td>\n      <td>0.0</td>\n      <td>2020-06-12</td>\n    </tr>\n    <tr>\n      <th>2</th>\n      <td>Arica y Parinacota</td>\n      <td>15</td>\n      <td>General Lagos</td>\n      <td>15202.0</td>\n      <td>810.0</td>\n      <td>0.0</td>\n      <td>2020-06-12</td>\n    </tr>\n    <tr>\n      <th>3</th>\n      <td>Arica y Parinacota</td>\n      <td>15</td>\n      <td>Putre</td>\n      <td>15201.0</td>\n      <td>2515.0</td>\n      <td>2.0</td>\n      <td>2020-06-12</td>\n    </tr>\n    <tr>\n      <th>4</th>\n      <td>Arica y Parinacota</td>\n      <td>15</td>\n      <td>Desconocido Arica y Parinacota</td>\n      <td>NaN</td>\n      <td>NaN</td>\n      <td>NaN</td>\n      <td>2020-06-12</td>\n    </tr>\n  </tbody>\n</table>\n</div>"
     },
     "metadata": {},
     "execution_count": 15
    }
   ],
   "source": [
    "df_prod2.head()"
   ]
  },
  {
   "cell_type": "code",
   "execution_count": 16,
   "metadata": {},
   "outputs": [
    {
     "output_type": "execute_result",
     "data": {
      "text/plain": "(12670, 7)"
     },
     "metadata": {},
     "execution_count": 16
    }
   ],
   "source": [
    "df_prod2.shape"
   ]
  },
  {
   "cell_type": "code",
   "execution_count": 17,
   "metadata": {},
   "outputs": [
    {
     "output_type": "execute_result",
     "data": {
      "text/plain": "         cod_comuna      poblacion   casos_total\ncount  12110.000000   12110.000000  12251.000000\nmean    9034.997110   56237.890173    335.377030\nstd     3812.783311   88821.006783   1339.836198\nmin     1101.000000     137.000000      0.000000\n25%     6109.000000    9546.000000      1.000000\n50%     8313.500000   19770.000000     15.000000\n75%    13103.000000   56058.000000     87.000000\nmax    16305.000000  645909.000000  21568.000000",
      "text/html": "<div>\n<style scoped>\n    .dataframe tbody tr th:only-of-type {\n        vertical-align: middle;\n    }\n\n    .dataframe tbody tr th {\n        vertical-align: top;\n    }\n\n    .dataframe thead th {\n        text-align: right;\n    }\n</style>\n<table border=\"1\" class=\"dataframe\">\n  <thead>\n    <tr style=\"text-align: right;\">\n      <th></th>\n      <th>cod_comuna</th>\n      <th>poblacion</th>\n      <th>casos_total</th>\n    </tr>\n  </thead>\n  <tbody>\n    <tr>\n      <th>count</th>\n      <td>12110.000000</td>\n      <td>12110.000000</td>\n      <td>12251.000000</td>\n    </tr>\n    <tr>\n      <th>mean</th>\n      <td>9034.997110</td>\n      <td>56237.890173</td>\n      <td>335.377030</td>\n    </tr>\n    <tr>\n      <th>std</th>\n      <td>3812.783311</td>\n      <td>88821.006783</td>\n      <td>1339.836198</td>\n    </tr>\n    <tr>\n      <th>min</th>\n      <td>1101.000000</td>\n      <td>137.000000</td>\n      <td>0.000000</td>\n    </tr>\n    <tr>\n      <th>25%</th>\n      <td>6109.000000</td>\n      <td>9546.000000</td>\n      <td>1.000000</td>\n    </tr>\n    <tr>\n      <th>50%</th>\n      <td>8313.500000</td>\n      <td>19770.000000</td>\n      <td>15.000000</td>\n    </tr>\n    <tr>\n      <th>75%</th>\n      <td>13103.000000</td>\n      <td>56058.000000</td>\n      <td>87.000000</td>\n    </tr>\n    <tr>\n      <th>max</th>\n      <td>16305.000000</td>\n      <td>645909.000000</td>\n      <td>21568.000000</td>\n    </tr>\n  </tbody>\n</table>\n</div>"
     },
     "metadata": {},
     "execution_count": 17
    }
   ],
   "source": [
    "df_prod2.describe()"
   ]
  },
  {
   "cell_type": "code",
   "execution_count": 18,
   "metadata": {},
   "outputs": [
    {
     "output_type": "execute_result",
     "data": {
      "text/plain": "35"
     },
     "metadata": {},
     "execution_count": 18
    }
   ],
   "source": [
    "df_prod2.base_dt.nunique()"
   ]
  },
  {
   "cell_type": "markdown",
   "metadata": {},
   "source": [
    "## Datos del producto 4 (casos totales por región)\n",
    "Los datos del producto 4 están separados en varios archivos (uno por fecha), por lo que se crea un DataFrame vacío, se obtiene una lista con todos los archivos CSV que existen en la carpeta, se leen todos, se les cambia el nombre de las columnas, y finalmente se concatenan al acumulador. A los datos intermedios se les agregan columnas nuevas: `base_dt`, que refleja la fecha del informe leído, `cod_region`, que mapea el nombre de la región a su número (para evitar errores de manipulación)."
   ]
  },
  {
   "cell_type": "code",
   "execution_count": 19,
   "metadata": {},
   "outputs": [],
   "source": [
    "column_names = [\"region\", \"casos_nuevo\", \"casos_nuevo_total\", \"casos_nuevo_sintomas\", \"casos_nuevo_nosintomas\",\n",
    "                \"casos_nuevo_nonotif\", \"casos_activo_confirm\", \"casos_activo_prob\", \"casos_probables_accum\",\n",
    "                \"casos_confirm_recup\", \"casos_total\", \"casos_recuperado\", \"muertes\", \"incremento\", \"tpm\",\n",
    "                \"perc_total\", \"cod_region\"]\n",
    "column_rename = {'Region': \"region\", \n",
    "                    \"Region\": \"region\", \n",
    "                    'Región': \"region\",\n",
    "                    'Casos  nuevos': \"casos_nuevo\", \n",
    "                    'Casos nuevos': \"casos_nuevo\",\n",
    "                    ' Casos nuevos': \"casos_nuevo\", \n",
    "                    ' Casos nuevos': \"casos_nuevo\", \n",
    "                    'Casos nuevos totales': \"casos_nuevo_total\",\n",
    "                    \"Casos nuevos totales\": \"casos_nuevo_total\", \n",
    "                    'Casos  nuevos  totales': \"casos_nuevo_total\",\n",
    "                    'Casos nuevos totales ': \"casos_nuevo_total\", \n",
    "                    'Casos nuevos con sintomas': \"casos_nuevo_sintomas\", \n",
    "                    \"Casos nuevos con sintomas\": \"casos_nuevo_sintomas\", \n",
    "                    'Casos  nuevos  con  sintomas': \"casos_nuevo_sintomas\", \n",
    "                    'Casos nuevos con sintomas ': \"casos_nuevo_sintomas\",\n",
    "                    'Casos  nuevos  sin  sintomas': \"casos_nuevo_nosintomas\", \n",
    "                    'Casos nuevos sin sintomas* ': \"caso_nuevo_nosintomas\", \n",
    "                    'Casos nuevos sin sintomas*': \"caso_nuevo_nosintomas\",\n",
    "                    \"Casos nuevos sin sintomas*\": \"caso_nuevo_nosintomas\", \n",
    "                    'Casos  nuevos  sin  sintomas*': \"caso_nuevo_nosintomas\",\n",
    "                    'Casos nuevos sin notificar': \"caso_nuevo_nonotif\", \n",
    "                    \"Casos nuevos sin notificar\": \"caso_nuevo_nonotif\", \n",
    "                    'Casos activos confirmados': \"casos_activo_confirm\",\n",
    "                    \"Casos activos confirmados\": \"casos_activo_confirm\",\n",
    "                    'Casos activos probables': \"casos_activo_prob\",\n",
    "                    \"Casos activos probables\": \"casos_activo_prob\", \n",
    "                    'Casos activos probables ': \"casos_activo_prob\", \n",
    "                    'Casos probables acumulados ': \"casos_probables_accum\", \n",
    "                    \"Casos probables acumulados \": \"casos_probables_accum\", \n",
    "                    'Casos confirmados recuperados': \"casos_confirm_recup\",\n",
    "                    \"Casos confirmados recuperados\": \"casos_confirm_recup\", \n",
    "                    'Casos  totales': \"casos_total\", \n",
    "                    'Casos totales': \"casos_total\", \n",
    "                    ' Casos totales': \"casos_total\",\n",
    "                    'Casos totales acumulados': \"casos_total\", \n",
    "                    'Casos  totales  acumulados': \"casos_total\", \n",
    "                    \"Casos totales acumulados\": \"casos_total\", \n",
    "                    'Casos totales acumulados ': \"casos_total\",\n",
    "                    ' Casos recuperados': \"casos_recuperado\", \n",
    "                    'Fallecidos totales': \"muertes\", \n",
    "                    \"Fallecidos totales\": \"muertes\", \n",
    "                    'Fallecidos': \"muertes\", \n",
    "                    'Fallecidos totales ': \"muertes\", \n",
    "                    ' Casos fallecidos': \"muertes\", \n",
    "                    'Incremento  diario': \"incremento\",\n",
    "                    'Tasa  *100000': \"tpm\", \n",
    "                    '%  Casos  totales**': \"perc_total\",\n",
    "                    '% Total': \"perc_total\", \n",
    "                    '%  Total': \"perc_total\",\n",
    "                    '% Total ': \"perc_total\"}\n",
    "dict_region = {'Arica y Parinacota': 15, \n",
    "                'Tarapacá': 1, \n",
    "                'Antofagasta': 2, \n",
    "                'Atacama': 3,\n",
    "                'Coquimbo': 4, \n",
    "                'Valparaíso': 5,\n",
    "                'Metropolitana': 13, \n",
    "                'O’Higgins': 6, \n",
    "                'Maule': 7,\n",
    "                'Ñuble': 16, \n",
    "                'Biobío': 8, \n",
    "                'Araucanía': 9, \n",
    "                'Los Ríos': 14, \n",
    "                'Los Lagos': 10, \n",
    "                'Aysén': 11,\n",
    "                'Magallanes': 12,\n",
    "                'Arica y Parinacota': 15, \n",
    "                'Tarapacá': 1, \n",
    "                'Antofagasta': 2, \n",
    "                'Atacama': 3,\n",
    "                'Coquimbo': 4, \n",
    "                'Valparaíso': 5, \n",
    "                'Metropolitana': 13, \n",
    "                \"O'Higgins\": 6, \n",
    "                'Maule': 7,\n",
    "                'Ñuble': 16, \n",
    "                'Biobío': 8, \n",
    "                'Araucania': 9, \n",
    "                'Los Ríos': 14, \n",
    "                'Los Lagos': 10, \n",
    "                'Aysén': 11,\n",
    "                'Magallanes': 12, \n",
    "                'Total': 0, \n",
    "                'Arica  y  Parinacota': 15, \n",
    "                'Tarapaca': 1,\n",
    "                'Valparaiso': 5, \n",
    "                'Nuble': 16, \n",
    "                'Biobio': 8, \n",
    "                'Los  Rios': 14, \n",
    "                'Los  Lagos': 10,\n",
    "                'Aysen': 11, \n",
    "                'Se desconoce región de origen': None, \n",
    "                'O’Higgins': 6, \n",
    "                'Araucanía': 9,\n",
    "                'Arica y Paricota': 15, \n",
    "                'Metropolita': 13, \n",
    "                'Los Rios': 14, \n",
    "                'Los  Ríos': 14}\n",
    "\n",
    "df_prod4 = pd.DataFrame(columns = column_names)\n",
    "prod4_files = [csv for csv in os.listdir(prod4_folder) if \"csv\" in csv]\n",
    "\n",
    "for csv in prod4_files:\n",
    "    df_prod4 = accum_data(input_str = csv, \n",
    "                            accum_df = df_prod4,\n",
    "                            base_folder = prod4_folder, \n",
    "                            column_change = column_rename)\n",
    "\n",
    "df_prod4[\"cod_region\"] = df_prod4.apply(lambda fila: dict_region.get(fila.region), axis = 1)"
   ]
  },
  {
   "cell_type": "code",
   "execution_count": 20,
   "metadata": {},
   "outputs": [
    {
     "output_type": "execute_result",
     "data": {
      "text/plain": "               region casos_nuevo casos_nuevo_total casos_nuevo_sintomas  \\\n0  Arica y Parinacota         NaN                56                   52   \n1            Tarapacá         NaN               126                  108   \n2         Antofagasta         NaN               300                  256   \n3             Atacama         NaN                37                   25   \n4            Coquimbo         NaN               119                   99   \n\n  casos_nuevo_nosintomas casos_nuevo_nonotif casos_activo_confirm  \\\n0                    NaN                 NaN                  NaN   \n1                    NaN                 NaN                  NaN   \n2                    NaN                 NaN                  NaN   \n3                    NaN                 NaN                  NaN   \n4                    NaN                 NaN                  NaN   \n\n  casos_activo_prob casos_probables_accum casos_confirm_recup casos_total  \\\n0               NaN                   NaN                 NaN        1295   \n1               NaN                   NaN                 NaN        4995   \n2               NaN                   NaN                 NaN        5828   \n3               NaN                   NaN                 NaN         623   \n4               NaN                   NaN                 NaN        2195   \n\n  casos_recuperado muertes incremento  tpm perc_total  cod_region  \\\n0              NaN      12        NaN  NaN      0.56%        15.0   \n1              NaN      71        NaN  NaN      2.16%         1.0   \n2              NaN      93        NaN  NaN      2.52%         2.0   \n3              NaN       0        NaN  NaN      0.27%         3.0   \n4              NaN      16        NaN  NaN      0.95%         4.0   \n\n   caso_nuevo_nosintomas  caso_nuevo_nonotif     base_dt  \n0                    4.0                 0.0  2020-06-19  \n1                   14.0                 4.0  2020-06-19  \n2                   33.0                11.0  2020-06-19  \n3                   12.0                 0.0  2020-06-19  \n4                    9.0                11.0  2020-06-19  ",
      "text/html": "<div>\n<style scoped>\n    .dataframe tbody tr th:only-of-type {\n        vertical-align: middle;\n    }\n\n    .dataframe tbody tr th {\n        vertical-align: top;\n    }\n\n    .dataframe thead th {\n        text-align: right;\n    }\n</style>\n<table border=\"1\" class=\"dataframe\">\n  <thead>\n    <tr style=\"text-align: right;\">\n      <th></th>\n      <th>region</th>\n      <th>casos_nuevo</th>\n      <th>casos_nuevo_total</th>\n      <th>casos_nuevo_sintomas</th>\n      <th>casos_nuevo_nosintomas</th>\n      <th>casos_nuevo_nonotif</th>\n      <th>casos_activo_confirm</th>\n      <th>casos_activo_prob</th>\n      <th>casos_probables_accum</th>\n      <th>casos_confirm_recup</th>\n      <th>casos_total</th>\n      <th>casos_recuperado</th>\n      <th>muertes</th>\n      <th>incremento</th>\n      <th>tpm</th>\n      <th>perc_total</th>\n      <th>cod_region</th>\n      <th>caso_nuevo_nosintomas</th>\n      <th>caso_nuevo_nonotif</th>\n      <th>base_dt</th>\n    </tr>\n  </thead>\n  <tbody>\n    <tr>\n      <th>0</th>\n      <td>Arica y Parinacota</td>\n      <td>NaN</td>\n      <td>56</td>\n      <td>52</td>\n      <td>NaN</td>\n      <td>NaN</td>\n      <td>NaN</td>\n      <td>NaN</td>\n      <td>NaN</td>\n      <td>NaN</td>\n      <td>1295</td>\n      <td>NaN</td>\n      <td>12</td>\n      <td>NaN</td>\n      <td>NaN</td>\n      <td>0.56%</td>\n      <td>15.0</td>\n      <td>4.0</td>\n      <td>0.0</td>\n      <td>2020-06-19</td>\n    </tr>\n    <tr>\n      <th>1</th>\n      <td>Tarapacá</td>\n      <td>NaN</td>\n      <td>126</td>\n      <td>108</td>\n      <td>NaN</td>\n      <td>NaN</td>\n      <td>NaN</td>\n      <td>NaN</td>\n      <td>NaN</td>\n      <td>NaN</td>\n      <td>4995</td>\n      <td>NaN</td>\n      <td>71</td>\n      <td>NaN</td>\n      <td>NaN</td>\n      <td>2.16%</td>\n      <td>1.0</td>\n      <td>14.0</td>\n      <td>4.0</td>\n      <td>2020-06-19</td>\n    </tr>\n    <tr>\n      <th>2</th>\n      <td>Antofagasta</td>\n      <td>NaN</td>\n      <td>300</td>\n      <td>256</td>\n      <td>NaN</td>\n      <td>NaN</td>\n      <td>NaN</td>\n      <td>NaN</td>\n      <td>NaN</td>\n      <td>NaN</td>\n      <td>5828</td>\n      <td>NaN</td>\n      <td>93</td>\n      <td>NaN</td>\n      <td>NaN</td>\n      <td>2.52%</td>\n      <td>2.0</td>\n      <td>33.0</td>\n      <td>11.0</td>\n      <td>2020-06-19</td>\n    </tr>\n    <tr>\n      <th>3</th>\n      <td>Atacama</td>\n      <td>NaN</td>\n      <td>37</td>\n      <td>25</td>\n      <td>NaN</td>\n      <td>NaN</td>\n      <td>NaN</td>\n      <td>NaN</td>\n      <td>NaN</td>\n      <td>NaN</td>\n      <td>623</td>\n      <td>NaN</td>\n      <td>0</td>\n      <td>NaN</td>\n      <td>NaN</td>\n      <td>0.27%</td>\n      <td>3.0</td>\n      <td>12.0</td>\n      <td>0.0</td>\n      <td>2020-06-19</td>\n    </tr>\n    <tr>\n      <th>4</th>\n      <td>Coquimbo</td>\n      <td>NaN</td>\n      <td>119</td>\n      <td>99</td>\n      <td>NaN</td>\n      <td>NaN</td>\n      <td>NaN</td>\n      <td>NaN</td>\n      <td>NaN</td>\n      <td>NaN</td>\n      <td>2195</td>\n      <td>NaN</td>\n      <td>16</td>\n      <td>NaN</td>\n      <td>NaN</td>\n      <td>0.95%</td>\n      <td>4.0</td>\n      <td>9.0</td>\n      <td>11.0</td>\n      <td>2020-06-19</td>\n    </tr>\n  </tbody>\n</table>\n</div>"
     },
     "metadata": {},
     "execution_count": 20
    }
   ],
   "source": [
    "df_prod4.head()"
   ]
  },
  {
   "cell_type": "code",
   "execution_count": 21,
   "metadata": {},
   "outputs": [
    {
     "output_type": "execute_result",
     "data": {
      "text/plain": "(2438, 20)"
     },
     "metadata": {},
     "execution_count": 21
    }
   ],
   "source": [
    "df_prod4.shape"
   ]
  },
  {
   "cell_type": "code",
   "execution_count": 22,
   "metadata": {},
   "outputs": [
    {
     "output_type": "execute_result",
     "data": {
      "text/plain": "        cod_region  caso_nuevo_nosintomas  caso_nuevo_nonotif\ncount  2414.000000            1450.000000          617.000000\nmean      8.000000              41.994483           34.534846\nstd       4.899995             102.123040          101.153184\nmin       0.000000               0.000000            0.000000\n25%       4.000000               2.000000            0.000000\n50%       8.000000               7.000000            2.000000\n75%      12.000000              19.000000           11.000000\nmax      16.000000             645.000000          832.000000",
      "text/html": "<div>\n<style scoped>\n    .dataframe tbody tr th:only-of-type {\n        vertical-align: middle;\n    }\n\n    .dataframe tbody tr th {\n        vertical-align: top;\n    }\n\n    .dataframe thead th {\n        text-align: right;\n    }\n</style>\n<table border=\"1\" class=\"dataframe\">\n  <thead>\n    <tr style=\"text-align: right;\">\n      <th></th>\n      <th>cod_region</th>\n      <th>caso_nuevo_nosintomas</th>\n      <th>caso_nuevo_nonotif</th>\n    </tr>\n  </thead>\n  <tbody>\n    <tr>\n      <th>count</th>\n      <td>2414.000000</td>\n      <td>1450.000000</td>\n      <td>617.000000</td>\n    </tr>\n    <tr>\n      <th>mean</th>\n      <td>8.000000</td>\n      <td>41.994483</td>\n      <td>34.534846</td>\n    </tr>\n    <tr>\n      <th>std</th>\n      <td>4.899995</td>\n      <td>102.123040</td>\n      <td>101.153184</td>\n    </tr>\n    <tr>\n      <th>min</th>\n      <td>0.000000</td>\n      <td>0.000000</td>\n      <td>0.000000</td>\n    </tr>\n    <tr>\n      <th>25%</th>\n      <td>4.000000</td>\n      <td>2.000000</td>\n      <td>0.000000</td>\n    </tr>\n    <tr>\n      <th>50%</th>\n      <td>8.000000</td>\n      <td>7.000000</td>\n      <td>2.000000</td>\n    </tr>\n    <tr>\n      <th>75%</th>\n      <td>12.000000</td>\n      <td>19.000000</td>\n      <td>11.000000</td>\n    </tr>\n    <tr>\n      <th>max</th>\n      <td>16.000000</td>\n      <td>645.000000</td>\n      <td>832.000000</td>\n    </tr>\n  </tbody>\n</table>\n</div>"
     },
     "metadata": {},
     "execution_count": 22
    }
   ],
   "source": [
    "df_prod4.describe()"
   ]
  },
  {
   "cell_type": "code",
   "execution_count": 23,
   "metadata": {},
   "outputs": [
    {
     "output_type": "execute_result",
     "data": {
      "text/plain": "142"
     },
     "metadata": {},
     "execution_count": 23
    }
   ],
   "source": [
    "df_prod4.base_dt.nunique()"
   ]
  },
  {
   "cell_type": "markdown",
   "metadata": {},
   "source": [
    "## Datos del producto 5 (totales nacionales diarios)\n",
    "El producto 5 consta de sólo un archvo, por lo que se lee el CSV y se le cambian los nombres a las columnas para obtener consistencia."
   ]
  },
  {
   "cell_type": "code",
   "execution_count": 24,
   "metadata": {},
   "outputs": [],
   "source": [
    "column_rename = {\"Fecha\": \"base_dt\", \n",
    "                    \"Casos totales\": \"casos_total\",\n",
    "                    \"Casos nuevos con sintomas\": \"casos_nuevo_sintomas\", \n",
    "                    \"Casos nuevos sin sintomas\": \"casos_nuevo_sinsintomas\",\n",
    "                    \"Casos nuevos totales\": \"casos_nuevo_total\",\n",
    "                    \"Casos nuevos sin notificar\": \"casos_nuevo_sinnotif\",\n",
    "                    \"Casos activos\": \"casos_activo\",\n",
    "                    \"Casos activos por FD\": \"casos_activo_fd\",\n",
    "                    \"Casos activos por FIS\": \"casos_activo_fis\",\n",
    "                    \"Casos activos cofirmados\": \"casos_activo_confirmado\",\n",
    "                    \"Casos activos probables\": \"casos_activo_probable\",\n",
    "                    \"Casos recuperados\": \"casos_recuperado\",\n",
    "                    \"Casos recuperados por FIS\": \"casos_recuperado_fis\",\n",
    "                    \"Casos recuperados por FD\": \"casos_recuperado_fd\",\n",
    "                    \"Casos confirmados recuperados\": \"casos_confirmado_recuperado\",\n",
    "                    \"Casos probables acumulados\": \"casos_probable_accum\",\n",
    "                    \"Fallecidos\": \"muertes\"}\n",
    "\n",
    "df_prod5 = pd.read_csv(os.path.join(prod5_folder, \"TotalesNacionales_T.csv\"))\n",
    "df_prod5.rename(columns = column_rename, inplace = True)"
   ]
  },
  {
   "cell_type": "code",
   "execution_count": 25,
   "metadata": {},
   "outputs": [
    {
     "output_type": "execute_result",
     "data": {
      "text/plain": "      base_dt  casos_nuevo_sintomas  casos_total  casos_recuperado  muertes  \\\n0  2020-03-02                   1.0          1.0               0.0      0.0   \n1  2020-03-03                   0.0          1.0               0.0      0.0   \n2  2020-03-04                   2.0          3.0               0.0      0.0   \n3  2020-03-05                   1.0          4.0               0.0      0.0   \n4  2020-03-06                   1.0          5.0               0.0      0.0   \n\n   casos_activo  casos_nuevo_sinsintomas  casos_nuevo_total  casos_activo_fd  \\\n0           1.0                      NaN                1.0              1.0   \n1           1.0                      NaN                0.0              1.0   \n2           3.0                      NaN                2.0              3.0   \n3           4.0                      NaN                1.0              4.0   \n4           5.0                      NaN                1.0              5.0   \n\n   casos_activo_fis  casos_recuperado_fis  casos_recuperado_fd  \\\n0               NaN                   NaN                  0.0   \n1               NaN                   NaN                  0.0   \n2               NaN                   NaN                  0.0   \n3               NaN                   NaN                  0.0   \n4               NaN                   NaN                  0.0   \n\n   casos_confirmado_recuperado  Casos activos confirmados  \\\n0                          NaN                        NaN   \n1                          NaN                        NaN   \n2                          NaN                        NaN   \n3                          NaN                        NaN   \n4                          NaN                        NaN   \n\n   casos_probable_accum  casos_activo_probable  casos_nuevo_sinnotif  \n0                   NaN                    NaN                   NaN  \n1                   NaN                    NaN                   NaN  \n2                   NaN                    NaN                   NaN  \n3                   NaN                    NaN                   NaN  \n4                   NaN                    NaN                   NaN  ",
      "text/html": "<div>\n<style scoped>\n    .dataframe tbody tr th:only-of-type {\n        vertical-align: middle;\n    }\n\n    .dataframe tbody tr th {\n        vertical-align: top;\n    }\n\n    .dataframe thead th {\n        text-align: right;\n    }\n</style>\n<table border=\"1\" class=\"dataframe\">\n  <thead>\n    <tr style=\"text-align: right;\">\n      <th></th>\n      <th>base_dt</th>\n      <th>casos_nuevo_sintomas</th>\n      <th>casos_total</th>\n      <th>casos_recuperado</th>\n      <th>muertes</th>\n      <th>casos_activo</th>\n      <th>casos_nuevo_sinsintomas</th>\n      <th>casos_nuevo_total</th>\n      <th>casos_activo_fd</th>\n      <th>casos_activo_fis</th>\n      <th>casos_recuperado_fis</th>\n      <th>casos_recuperado_fd</th>\n      <th>casos_confirmado_recuperado</th>\n      <th>Casos activos confirmados</th>\n      <th>casos_probable_accum</th>\n      <th>casos_activo_probable</th>\n      <th>casos_nuevo_sinnotif</th>\n    </tr>\n  </thead>\n  <tbody>\n    <tr>\n      <th>0</th>\n      <td>2020-03-02</td>\n      <td>1.0</td>\n      <td>1.0</td>\n      <td>0.0</td>\n      <td>0.0</td>\n      <td>1.0</td>\n      <td>NaN</td>\n      <td>1.0</td>\n      <td>1.0</td>\n      <td>NaN</td>\n      <td>NaN</td>\n      <td>0.0</td>\n      <td>NaN</td>\n      <td>NaN</td>\n      <td>NaN</td>\n      <td>NaN</td>\n      <td>NaN</td>\n    </tr>\n    <tr>\n      <th>1</th>\n      <td>2020-03-03</td>\n      <td>0.0</td>\n      <td>1.0</td>\n      <td>0.0</td>\n      <td>0.0</td>\n      <td>1.0</td>\n      <td>NaN</td>\n      <td>0.0</td>\n      <td>1.0</td>\n      <td>NaN</td>\n      <td>NaN</td>\n      <td>0.0</td>\n      <td>NaN</td>\n      <td>NaN</td>\n      <td>NaN</td>\n      <td>NaN</td>\n      <td>NaN</td>\n    </tr>\n    <tr>\n      <th>2</th>\n      <td>2020-03-04</td>\n      <td>2.0</td>\n      <td>3.0</td>\n      <td>0.0</td>\n      <td>0.0</td>\n      <td>3.0</td>\n      <td>NaN</td>\n      <td>2.0</td>\n      <td>3.0</td>\n      <td>NaN</td>\n      <td>NaN</td>\n      <td>0.0</td>\n      <td>NaN</td>\n      <td>NaN</td>\n      <td>NaN</td>\n      <td>NaN</td>\n      <td>NaN</td>\n    </tr>\n    <tr>\n      <th>3</th>\n      <td>2020-03-05</td>\n      <td>1.0</td>\n      <td>4.0</td>\n      <td>0.0</td>\n      <td>0.0</td>\n      <td>4.0</td>\n      <td>NaN</td>\n      <td>1.0</td>\n      <td>4.0</td>\n      <td>NaN</td>\n      <td>NaN</td>\n      <td>0.0</td>\n      <td>NaN</td>\n      <td>NaN</td>\n      <td>NaN</td>\n      <td>NaN</td>\n      <td>NaN</td>\n    </tr>\n    <tr>\n      <th>4</th>\n      <td>2020-03-06</td>\n      <td>1.0</td>\n      <td>5.0</td>\n      <td>0.0</td>\n      <td>0.0</td>\n      <td>5.0</td>\n      <td>NaN</td>\n      <td>1.0</td>\n      <td>5.0</td>\n      <td>NaN</td>\n      <td>NaN</td>\n      <td>0.0</td>\n      <td>NaN</td>\n      <td>NaN</td>\n      <td>NaN</td>\n      <td>NaN</td>\n      <td>NaN</td>\n    </tr>\n  </tbody>\n</table>\n</div>"
     },
     "metadata": {},
     "execution_count": 25
    }
   ],
   "source": [
    "df_prod5.head()"
   ]
  },
  {
   "cell_type": "code",
   "execution_count": 26,
   "metadata": {},
   "outputs": [
    {
     "output_type": "execute_result",
     "data": {
      "text/plain": "(143, 17)"
     },
     "metadata": {},
     "execution_count": 26
    }
   ],
   "source": [
    "df_prod5.shape"
   ]
  },
  {
   "cell_type": "code",
   "execution_count": 27,
   "metadata": {},
   "outputs": [
    {
     "output_type": "execute_result",
     "data": {
      "text/plain": "       casos_nuevo_sintomas    casos_total  casos_recuperado      muertes  \\\ncount            143.000000     143.000000         92.000000   143.000000   \nmean            1842.734266  101006.664336       8647.413043  1943.783217   \nstd             1725.688901  118919.689709      11519.219916  2676.204634   \nmin                0.000000       1.000000          0.000000     0.000000   \n25%              329.000000    4965.500000         20.750000    40.000000   \n50%             1391.000000   31721.000000       3460.000000   335.000000   \n75%             3290.000000  202538.500000      12778.250000  3499.000000   \nmax             6368.000000  336402.000000      44946.000000  8722.000000   \n\n       casos_activo  casos_nuevo_sinsintomas  casos_nuevo_total  \\\ncount    143.000000                85.000000         143.000000   \nmean   17155.531469               361.129412        2131.895105   \nstd    14796.346265               125.556835        1972.572281   \nmin        1.000000                56.000000           0.000000   \n25%     4112.500000               265.000000         329.000000   \n50%    17261.000000               373.000000        1656.000000   \n75%    27112.000000               432.000000        3781.000000   \nmax    59100.000000               645.000000        6938.000000   \n\n       casos_activo_fd  casos_activo_fis  casos_recuperado_fis  \\\ncount       143.000000         51.000000             51.000000   \nmean      31339.762238      27183.941176         214062.529412   \nstd       32823.542727       5576.058889          71156.904835   \nmin           1.000000      18439.000000          86173.000000   \n25%        4112.500000      22751.000000         146248.000000   \n50%       17261.000000      25000.000000         228055.000000   \n75%       53303.500000      33369.500000         276487.500000   \nmax      109003.000000      37307.000000         309241.000000   \n\n       casos_recuperado_fd  casos_confirmado_recuperado  \\\ncount           143.000000                    32.000000   \nmean          67723.118881                261907.250000   \nstd           93898.411326                 32992.395211   \nmin               0.000000                200569.000000   \n25%             813.000000                235064.500000   \n50%           14125.000000                266308.000000   \n75%          109877.000000                289936.250000   \nmax          294361.000000                309241.000000   \n\n       Casos activos confirmados  casos_probable_accum  casos_activo_probable  \\\ncount                  27.000000             32.000000               32.00000   \nmean                28997.074074          33859.937500             7013.15625   \nstd                  5270.685176           5477.848647             2346.73129   \nmin                 21107.000000          21897.000000             1853.00000   \n25%                 24303.000000          30204.750000             5750.25000   \n50%                 28210.000000          35017.500000             6950.00000   \n75%                 34317.000000          38751.250000             9340.75000   \nmax                 37307.000000          40056.000000            10482.00000   \n\n       casos_nuevo_sinnotif  \ncount              5.000000  \nmean             130.400000  \nstd               42.388678  \nmin               84.000000  \n25%              108.000000  \n50%              112.000000  \n75%              160.000000  \nmax              188.000000  ",
      "text/html": "<div>\n<style scoped>\n    .dataframe tbody tr th:only-of-type {\n        vertical-align: middle;\n    }\n\n    .dataframe tbody tr th {\n        vertical-align: top;\n    }\n\n    .dataframe thead th {\n        text-align: right;\n    }\n</style>\n<table border=\"1\" class=\"dataframe\">\n  <thead>\n    <tr style=\"text-align: right;\">\n      <th></th>\n      <th>casos_nuevo_sintomas</th>\n      <th>casos_total</th>\n      <th>casos_recuperado</th>\n      <th>muertes</th>\n      <th>casos_activo</th>\n      <th>casos_nuevo_sinsintomas</th>\n      <th>casos_nuevo_total</th>\n      <th>casos_activo_fd</th>\n      <th>casos_activo_fis</th>\n      <th>casos_recuperado_fis</th>\n      <th>casos_recuperado_fd</th>\n      <th>casos_confirmado_recuperado</th>\n      <th>Casos activos confirmados</th>\n      <th>casos_probable_accum</th>\n      <th>casos_activo_probable</th>\n      <th>casos_nuevo_sinnotif</th>\n    </tr>\n  </thead>\n  <tbody>\n    <tr>\n      <th>count</th>\n      <td>143.000000</td>\n      <td>143.000000</td>\n      <td>92.000000</td>\n      <td>143.000000</td>\n      <td>143.000000</td>\n      <td>85.000000</td>\n      <td>143.000000</td>\n      <td>143.000000</td>\n      <td>51.000000</td>\n      <td>51.000000</td>\n      <td>143.000000</td>\n      <td>32.000000</td>\n      <td>27.000000</td>\n      <td>32.000000</td>\n      <td>32.00000</td>\n      <td>5.000000</td>\n    </tr>\n    <tr>\n      <th>mean</th>\n      <td>1842.734266</td>\n      <td>101006.664336</td>\n      <td>8647.413043</td>\n      <td>1943.783217</td>\n      <td>17155.531469</td>\n      <td>361.129412</td>\n      <td>2131.895105</td>\n      <td>31339.762238</td>\n      <td>27183.941176</td>\n      <td>214062.529412</td>\n      <td>67723.118881</td>\n      <td>261907.250000</td>\n      <td>28997.074074</td>\n      <td>33859.937500</td>\n      <td>7013.15625</td>\n      <td>130.400000</td>\n    </tr>\n    <tr>\n      <th>std</th>\n      <td>1725.688901</td>\n      <td>118919.689709</td>\n      <td>11519.219916</td>\n      <td>2676.204634</td>\n      <td>14796.346265</td>\n      <td>125.556835</td>\n      <td>1972.572281</td>\n      <td>32823.542727</td>\n      <td>5576.058889</td>\n      <td>71156.904835</td>\n      <td>93898.411326</td>\n      <td>32992.395211</td>\n      <td>5270.685176</td>\n      <td>5477.848647</td>\n      <td>2346.73129</td>\n      <td>42.388678</td>\n    </tr>\n    <tr>\n      <th>min</th>\n      <td>0.000000</td>\n      <td>1.000000</td>\n      <td>0.000000</td>\n      <td>0.000000</td>\n      <td>1.000000</td>\n      <td>56.000000</td>\n      <td>0.000000</td>\n      <td>1.000000</td>\n      <td>18439.000000</td>\n      <td>86173.000000</td>\n      <td>0.000000</td>\n      <td>200569.000000</td>\n      <td>21107.000000</td>\n      <td>21897.000000</td>\n      <td>1853.00000</td>\n      <td>84.000000</td>\n    </tr>\n    <tr>\n      <th>25%</th>\n      <td>329.000000</td>\n      <td>4965.500000</td>\n      <td>20.750000</td>\n      <td>40.000000</td>\n      <td>4112.500000</td>\n      <td>265.000000</td>\n      <td>329.000000</td>\n      <td>4112.500000</td>\n      <td>22751.000000</td>\n      <td>146248.000000</td>\n      <td>813.000000</td>\n      <td>235064.500000</td>\n      <td>24303.000000</td>\n      <td>30204.750000</td>\n      <td>5750.25000</td>\n      <td>108.000000</td>\n    </tr>\n    <tr>\n      <th>50%</th>\n      <td>1391.000000</td>\n      <td>31721.000000</td>\n      <td>3460.000000</td>\n      <td>335.000000</td>\n      <td>17261.000000</td>\n      <td>373.000000</td>\n      <td>1656.000000</td>\n      <td>17261.000000</td>\n      <td>25000.000000</td>\n      <td>228055.000000</td>\n      <td>14125.000000</td>\n      <td>266308.000000</td>\n      <td>28210.000000</td>\n      <td>35017.500000</td>\n      <td>6950.00000</td>\n      <td>112.000000</td>\n    </tr>\n    <tr>\n      <th>75%</th>\n      <td>3290.000000</td>\n      <td>202538.500000</td>\n      <td>12778.250000</td>\n      <td>3499.000000</td>\n      <td>27112.000000</td>\n      <td>432.000000</td>\n      <td>3781.000000</td>\n      <td>53303.500000</td>\n      <td>33369.500000</td>\n      <td>276487.500000</td>\n      <td>109877.000000</td>\n      <td>289936.250000</td>\n      <td>34317.000000</td>\n      <td>38751.250000</td>\n      <td>9340.75000</td>\n      <td>160.000000</td>\n    </tr>\n    <tr>\n      <th>max</th>\n      <td>6368.000000</td>\n      <td>336402.000000</td>\n      <td>44946.000000</td>\n      <td>8722.000000</td>\n      <td>59100.000000</td>\n      <td>645.000000</td>\n      <td>6938.000000</td>\n      <td>109003.000000</td>\n      <td>37307.000000</td>\n      <td>309241.000000</td>\n      <td>294361.000000</td>\n      <td>309241.000000</td>\n      <td>37307.000000</td>\n      <td>40056.000000</td>\n      <td>10482.00000</td>\n      <td>188.000000</td>\n    </tr>\n  </tbody>\n</table>\n</div>"
     },
     "metadata": {},
     "execution_count": 27
    }
   ],
   "source": [
    "df_prod5.describe()"
   ]
  },
  {
   "cell_type": "code",
   "execution_count": 28,
   "metadata": {},
   "outputs": [
    {
     "output_type": "execute_result",
     "data": {
      "text/plain": "143"
     },
     "metadata": {},
     "execution_count": 28
    }
   ],
   "source": [
    "df_prod5.base_dt.nunique()"
   ]
  },
  {
   "cell_type": "markdown",
   "metadata": {},
   "source": [
    "## Datos del producto 6 (enriquecimiento del producto 2)\n",
    "El producto 6 contiene el producto 4 en un solo archivo. Las fechas deben ser manipuladas para dejarlas en el mismo formato que el resto de los datos, y los valores de casos totales son manipulados para convertirlos en números decimales."
   ]
  },
  {
   "cell_type": "code",
   "execution_count": 29,
   "metadata": {},
   "outputs": [],
   "source": [
    "column_rename = {\"Poblacion\": \"poblacion\", \n",
    "                    \"Casos Confirmados\": \"casos_total\",\n",
    "                    \"Fecha\": \"base_dt\", \n",
    "                    \"Region ID\": \"cod_region\",\n",
    "                    \"Region\": \"region\",\n",
    "                    \"Provincia ID\": \"cod_provincia\",\n",
    "                    \"Provincia\": \"provincia\",\n",
    "                    \"Comuna ID\": \"cod_comuna\",\n",
    "                    \"Comuna\": \"comuna\",\n",
    "                    \"Tasa\": \"tasa\"}\n",
    "\n",
    "df_prod6 = pd.read_csv(os.path.join(prod6_folder, \"data.csv\"))\n",
    "df_prod6.rename(columns = column_rename, inplace = True)\n",
    "df_prod6[\"base_dt\"] = df_prod6.apply(lambda fila: str(fila.base_dt).replace(\"/\", \"-\"), axis = 1)\n",
    "df_prod6[\"casos_total\"] = df_prod6.apply(lambda fila: parse_numbers_to_str(fila.casos_total), axis = 1)"
   ]
  },
  {
   "cell_type": "code",
   "execution_count": 30,
   "metadata": {},
   "outputs": [
    {
     "output_type": "execute_result",
     "data": {
      "text/plain": "   poblacion  casos_total     base_dt  cod_region              region  \\\n0   247552.0        525.0  2020-05-25        15.0  Arica y Parinacota   \n1   247552.0        806.0  2020-06-05        15.0  Arica y Parinacota   \n2   247552.0       2721.0  2020-07-13        15.0  Arica y Parinacota   \n3   247552.0         87.0  2020-04-10        15.0  Arica y Parinacota   \n4   247552.0       1887.0  2020-07-01        15.0  Arica y Parinacota   \n\n   cod_provincia provincia  cod_comuna comuna                tasa  \n0          151.0     Arica     15101.0  Arica  212.07665460186143  \n1          151.0     Arica     15101.0  Arica  325.58815925542916  \n2          151.0     Arica     15101.0  Arica  1099.1630041365047  \n3          151.0     Arica     15101.0  Arica   35.14413133402275  \n4          151.0     Arica     15101.0  Arica   762.2640899689762  ",
      "text/html": "<div>\n<style scoped>\n    .dataframe tbody tr th:only-of-type {\n        vertical-align: middle;\n    }\n\n    .dataframe tbody tr th {\n        vertical-align: top;\n    }\n\n    .dataframe thead th {\n        text-align: right;\n    }\n</style>\n<table border=\"1\" class=\"dataframe\">\n  <thead>\n    <tr style=\"text-align: right;\">\n      <th></th>\n      <th>poblacion</th>\n      <th>casos_total</th>\n      <th>base_dt</th>\n      <th>cod_region</th>\n      <th>region</th>\n      <th>cod_provincia</th>\n      <th>provincia</th>\n      <th>cod_comuna</th>\n      <th>comuna</th>\n      <th>tasa</th>\n    </tr>\n  </thead>\n  <tbody>\n    <tr>\n      <th>0</th>\n      <td>247552.0</td>\n      <td>525.0</td>\n      <td>2020-05-25</td>\n      <td>15.0</td>\n      <td>Arica y Parinacota</td>\n      <td>151.0</td>\n      <td>Arica</td>\n      <td>15101.0</td>\n      <td>Arica</td>\n      <td>212.07665460186143</td>\n    </tr>\n    <tr>\n      <th>1</th>\n      <td>247552.0</td>\n      <td>806.0</td>\n      <td>2020-06-05</td>\n      <td>15.0</td>\n      <td>Arica y Parinacota</td>\n      <td>151.0</td>\n      <td>Arica</td>\n      <td>15101.0</td>\n      <td>Arica</td>\n      <td>325.58815925542916</td>\n    </tr>\n    <tr>\n      <th>2</th>\n      <td>247552.0</td>\n      <td>2721.0</td>\n      <td>2020-07-13</td>\n      <td>15.0</td>\n      <td>Arica y Parinacota</td>\n      <td>151.0</td>\n      <td>Arica</td>\n      <td>15101.0</td>\n      <td>Arica</td>\n      <td>1099.1630041365047</td>\n    </tr>\n    <tr>\n      <th>3</th>\n      <td>247552.0</td>\n      <td>87.0</td>\n      <td>2020-04-10</td>\n      <td>15.0</td>\n      <td>Arica y Parinacota</td>\n      <td>151.0</td>\n      <td>Arica</td>\n      <td>15101.0</td>\n      <td>Arica</td>\n      <td>35.14413133402275</td>\n    </tr>\n    <tr>\n      <th>4</th>\n      <td>247552.0</td>\n      <td>1887.0</td>\n      <td>2020-07-01</td>\n      <td>15.0</td>\n      <td>Arica y Parinacota</td>\n      <td>151.0</td>\n      <td>Arica</td>\n      <td>15101.0</td>\n      <td>Arica</td>\n      <td>762.2640899689762</td>\n    </tr>\n  </tbody>\n</table>\n</div>"
     },
     "metadata": {},
     "execution_count": 30
    }
   ],
   "source": [
    "df_prod6.head()"
   ]
  },
  {
   "cell_type": "code",
   "execution_count": 31,
   "metadata": {},
   "outputs": [
    {
     "output_type": "execute_result",
     "data": {
      "text/plain": "(12671, 10)"
     },
     "metadata": {},
     "execution_count": 31
    }
   ],
   "source": [
    "df_prod6.shape"
   ]
  },
  {
   "cell_type": "code",
   "execution_count": 32,
   "metadata": {},
   "outputs": [
    {
     "output_type": "execute_result",
     "data": {
      "text/plain": "           poblacion   casos_total    cod_region  cod_provincia    cod_comuna\ncount   12110.000000  12251.000000  12076.000000   12076.000000  12076.000000\nmean    56237.890173    335.377030      8.791487      90.230788   9028.898725\nstd     88821.006783   1339.836198      3.845235      38.153331   3816.412242\nmin       137.000000      0.000000      1.000000      11.000000   1101.000000\n25%      9546.000000      1.000000      6.000000      61.000000   6109.000000\n50%     19770.000000     15.000000      8.000000      83.000000   8313.000000\n75%     56058.000000     87.000000     13.000000     131.000000  13103.000000\nmax    645909.000000  21568.000000     16.000000     163.000000  16305.000000",
      "text/html": "<div>\n<style scoped>\n    .dataframe tbody tr th:only-of-type {\n        vertical-align: middle;\n    }\n\n    .dataframe tbody tr th {\n        vertical-align: top;\n    }\n\n    .dataframe thead th {\n        text-align: right;\n    }\n</style>\n<table border=\"1\" class=\"dataframe\">\n  <thead>\n    <tr style=\"text-align: right;\">\n      <th></th>\n      <th>poblacion</th>\n      <th>casos_total</th>\n      <th>cod_region</th>\n      <th>cod_provincia</th>\n      <th>cod_comuna</th>\n    </tr>\n  </thead>\n  <tbody>\n    <tr>\n      <th>count</th>\n      <td>12110.000000</td>\n      <td>12251.000000</td>\n      <td>12076.000000</td>\n      <td>12076.000000</td>\n      <td>12076.000000</td>\n    </tr>\n    <tr>\n      <th>mean</th>\n      <td>56237.890173</td>\n      <td>335.377030</td>\n      <td>8.791487</td>\n      <td>90.230788</td>\n      <td>9028.898725</td>\n    </tr>\n    <tr>\n      <th>std</th>\n      <td>88821.006783</td>\n      <td>1339.836198</td>\n      <td>3.845235</td>\n      <td>38.153331</td>\n      <td>3816.412242</td>\n    </tr>\n    <tr>\n      <th>min</th>\n      <td>137.000000</td>\n      <td>0.000000</td>\n      <td>1.000000</td>\n      <td>11.000000</td>\n      <td>1101.000000</td>\n    </tr>\n    <tr>\n      <th>25%</th>\n      <td>9546.000000</td>\n      <td>1.000000</td>\n      <td>6.000000</td>\n      <td>61.000000</td>\n      <td>6109.000000</td>\n    </tr>\n    <tr>\n      <th>50%</th>\n      <td>19770.000000</td>\n      <td>15.000000</td>\n      <td>8.000000</td>\n      <td>83.000000</td>\n      <td>8313.000000</td>\n    </tr>\n    <tr>\n      <th>75%</th>\n      <td>56058.000000</td>\n      <td>87.000000</td>\n      <td>13.000000</td>\n      <td>131.000000</td>\n      <td>13103.000000</td>\n    </tr>\n    <tr>\n      <th>max</th>\n      <td>645909.000000</td>\n      <td>21568.000000</td>\n      <td>16.000000</td>\n      <td>163.000000</td>\n      <td>16305.000000</td>\n    </tr>\n  </tbody>\n</table>\n</div>"
     },
     "metadata": {},
     "execution_count": 32
    }
   ],
   "source": [
    "df_prod6.describe()"
   ]
  },
  {
   "cell_type": "code",
   "execution_count": 33,
   "metadata": {},
   "outputs": [
    {
     "output_type": "execute_result",
     "data": {
      "text/plain": "36"
     },
     "metadata": {},
     "execution_count": 33
    }
   ],
   "source": [
    "df_prod6.base_dt.nunique()"
   ]
  },
  {
   "cell_type": "markdown",
   "metadata": {},
   "source": [
    "## Datos del producto 11 (enriquecimiento del producto 4)\n",
    "El producto 11 contiene los datos del producto 4 en un solo archivo. Las fechas deben ser manipuladas para dejarlas en el mismo formato que el resto de los datos, y se crea una nueva columna con el código de la región."
   ]
  },
  {
   "cell_type": "code",
   "execution_count": 34,
   "metadata": {},
   "outputs": [],
   "source": [
    "column_rename = {\"Region\": \"region\",\n",
    "                    \"Casostotalesacumulados\": \"casos_total\",\n",
    "                    \"Casosnuevostotales\": \"casos_nuevo_total\",\n",
    "                    \"Casosnuevosconsintomas\": \"casos_nuevo_sintomas\",\n",
    "                    \"Casosnuevossinsintomas*\": \"casos_nuevo_nosintomas\",\n",
    "                    \"Fallecidos\": \"muertes\",\n",
    "                    \"%Total\": \"perc_total\",\n",
    "                    \"Fecha\": \"base_dt\",\n",
    "                    \"Fallecidostotales\": \"muertes_total\",\n",
    "                    \"Nuevos Casos\": \"casos_nuevo\",\n",
    "                    \"Casos Confirmados\": \"casos_confirmado\",\n",
    "                    \"Casosnuevossinsintomas\": \"casos_nuevo_nosintomas2\",\n",
    "                    \"Tasa*100000\": \"tpm\",\n",
    "                    \"Incrementodiario\": \"incremento\",\n",
    "                    \"Region ID\": \"cod_region\",\n",
    "                    \"Poblacion\": \"poblacion\",\n",
    "                    \"Tasa\": \"tasa\"}\n",
    "dict_region = {'Arica y Parinacota': 15, \n",
    "                'Tarapacá': 1, \n",
    "                'Antofagasta': 2, \n",
    "                'Atacama': 3,\n",
    "                'Coquimbo': 4, \n",
    "                'Valparaíso': 5,\n",
    "                'Metropolitana': 13, \n",
    "                'O’Higgins': 6, \n",
    "                'Maule': 7,\n",
    "                'Ñuble': 16, \n",
    "                'Biobío': 8, \n",
    "                'Araucanía': 9, \n",
    "                'Los Ríos': 14, \n",
    "                'Los Lagos': 10, \n",
    "                'Aysén': 11,\n",
    "                'Magallanes': 12}\n",
    "\n",
    "df_prod11 = pd.read_csv(os.path.join(prod11_folder, \"producto4.csv\"))\n",
    "df_prod11.rename(columns = column_rename, inplace = True)\n",
    "df_prod11[\"base_dt\"] = df_prod11.apply(lambda fila: str(fila.base_dt).replace(\"/\", \"-\"), axis = 1)\n",
    "df_prod11[\"cod_region\"] = df_prod11.apply(lambda fila: dict_region.get(fila.region), axis = 1)"
   ]
  },
  {
   "cell_type": "code",
   "execution_count": 35,
   "metadata": {},
   "outputs": [
    {
     "output_type": "execute_result",
     "data": {
      "text/plain": "               region  casos_total  casos_nuevo_total  casos_nuevo_sintomas  \\\n0  Arica y Parinacota        378.0                1.0                   1.0   \n1            Tarapacá        975.0              130.0                 108.0   \n2         Antofagasta       1505.0               76.0                  60.0   \n3             Atacama        149.0                3.0                   2.0   \n4            Coquimbo        194.0                7.0                   1.0   \n\n   casos_nuevo_nosintomas  muertes perc_total     base_dt  muertes_total  \\\n0                     0.0        7      0.86%  2020-05-17            NaN   \n1                    22.0        4      2.23%  2020-05-17            NaN   \n2                    16.0       13      3.44%  2020-05-17            NaN   \n3                     1.0        0      0.34%  2020-05-17            NaN   \n4                     6.0        2      0.44%  2020-05-17            NaN   \n\n   casos_nuevo  casos_confirmado  casos_nuevo_nosintomas2  tpm incremento  \\\n0          NaN               NaN                      NaN  NaN        NaN   \n1          NaN               NaN                      NaN  NaN        NaN   \n2          NaN               NaN                      NaN  NaN        NaN   \n3          NaN               NaN                      NaN  NaN        NaN   \n4          NaN               NaN                      NaN  NaN        NaN   \n\n   cod_region  poblacion  tasa  \n0          15     252110   NaN  \n1           1     382773   NaN  \n2           2     691854   NaN  \n3           3     314709   NaN  \n4           4     836096   NaN  ",
      "text/html": "<div>\n<style scoped>\n    .dataframe tbody tr th:only-of-type {\n        vertical-align: middle;\n    }\n\n    .dataframe tbody tr th {\n        vertical-align: top;\n    }\n\n    .dataframe thead th {\n        text-align: right;\n    }\n</style>\n<table border=\"1\" class=\"dataframe\">\n  <thead>\n    <tr style=\"text-align: right;\">\n      <th></th>\n      <th>region</th>\n      <th>casos_total</th>\n      <th>casos_nuevo_total</th>\n      <th>casos_nuevo_sintomas</th>\n      <th>casos_nuevo_nosintomas</th>\n      <th>muertes</th>\n      <th>perc_total</th>\n      <th>base_dt</th>\n      <th>muertes_total</th>\n      <th>casos_nuevo</th>\n      <th>casos_confirmado</th>\n      <th>casos_nuevo_nosintomas2</th>\n      <th>tpm</th>\n      <th>incremento</th>\n      <th>cod_region</th>\n      <th>poblacion</th>\n      <th>tasa</th>\n    </tr>\n  </thead>\n  <tbody>\n    <tr>\n      <th>0</th>\n      <td>Arica y Parinacota</td>\n      <td>378.0</td>\n      <td>1.0</td>\n      <td>1.0</td>\n      <td>0.0</td>\n      <td>7</td>\n      <td>0.86%</td>\n      <td>2020-05-17</td>\n      <td>NaN</td>\n      <td>NaN</td>\n      <td>NaN</td>\n      <td>NaN</td>\n      <td>NaN</td>\n      <td>NaN</td>\n      <td>15</td>\n      <td>252110</td>\n      <td>NaN</td>\n    </tr>\n    <tr>\n      <th>1</th>\n      <td>Tarapacá</td>\n      <td>975.0</td>\n      <td>130.0</td>\n      <td>108.0</td>\n      <td>22.0</td>\n      <td>4</td>\n      <td>2.23%</td>\n      <td>2020-05-17</td>\n      <td>NaN</td>\n      <td>NaN</td>\n      <td>NaN</td>\n      <td>NaN</td>\n      <td>NaN</td>\n      <td>NaN</td>\n      <td>1</td>\n      <td>382773</td>\n      <td>NaN</td>\n    </tr>\n    <tr>\n      <th>2</th>\n      <td>Antofagasta</td>\n      <td>1505.0</td>\n      <td>76.0</td>\n      <td>60.0</td>\n      <td>16.0</td>\n      <td>13</td>\n      <td>3.44%</td>\n      <td>2020-05-17</td>\n      <td>NaN</td>\n      <td>NaN</td>\n      <td>NaN</td>\n      <td>NaN</td>\n      <td>NaN</td>\n      <td>NaN</td>\n      <td>2</td>\n      <td>691854</td>\n      <td>NaN</td>\n    </tr>\n    <tr>\n      <th>3</th>\n      <td>Atacama</td>\n      <td>149.0</td>\n      <td>3.0</td>\n      <td>2.0</td>\n      <td>1.0</td>\n      <td>0</td>\n      <td>0.34%</td>\n      <td>2020-05-17</td>\n      <td>NaN</td>\n      <td>NaN</td>\n      <td>NaN</td>\n      <td>NaN</td>\n      <td>NaN</td>\n      <td>NaN</td>\n      <td>3</td>\n      <td>314709</td>\n      <td>NaN</td>\n    </tr>\n    <tr>\n      <th>4</th>\n      <td>Coquimbo</td>\n      <td>194.0</td>\n      <td>7.0</td>\n      <td>1.0</td>\n      <td>6.0</td>\n      <td>2</td>\n      <td>0.44%</td>\n      <td>2020-05-17</td>\n      <td>NaN</td>\n      <td>NaN</td>\n      <td>NaN</td>\n      <td>NaN</td>\n      <td>NaN</td>\n      <td>NaN</td>\n      <td>4</td>\n      <td>836096</td>\n      <td>NaN</td>\n    </tr>\n  </tbody>\n</table>\n</div>"
     },
     "metadata": {},
     "execution_count": 35
    }
   ],
   "source": [
    "df_prod11.head()"
   ]
  },
  {
   "cell_type": "code",
   "execution_count": 36,
   "metadata": {},
   "outputs": [
    {
     "output_type": "execute_result",
     "data": {
      "text/plain": "(1552, 17)"
     },
     "metadata": {},
     "execution_count": 36
    }
   ],
   "source": [
    "df_prod11.shape"
   ]
  },
  {
   "cell_type": "code",
   "execution_count": 37,
   "metadata": {},
   "outputs": [
    {
     "output_type": "execute_result",
     "data": {
      "text/plain": "         casos_total  casos_nuevo_total  casos_nuevo_sintomas  \\\ncount     640.000000         640.000000            640.000000   \nmean     3681.695312         187.164062            167.212500   \nstd     13320.003662         684.582458            625.346853   \nmin         7.000000           0.000000              0.000000   \n25%       308.000000           6.000000              4.000000   \n50%       775.000000          18.000000             14.000000   \n75%      1362.750000          52.250000             43.000000   \nmax    108462.000000        5268.000000           4797.000000   \n\n       casos_nuevo_nosintomas      muertes  muertes_total  casos_nuevo  \\\ncount              624.000000  1552.000000      96.000000   912.000000   \nmean                20.062500    13.059923      87.968750    15.751096   \nstd                 62.362691    58.355651     259.091955    47.118606   \nmin                  0.000000     0.000000       0.000000     0.000000   \n25%                  1.000000     0.000000       8.000000     0.000000   \n50%                  4.000000     1.000000      19.000000     2.000000   \n75%                  9.000000     8.000000      32.500000    12.000000   \nmax                471.000000   824.000000    1273.000000   442.000000   \n\n       casos_confirmado  casos_nuevo_nosintomas2         tpm   cod_region  \\\ncount        912.000000                   16.000   16.000000  1552.000000   \nmean         275.662281                   15.625   78.364375     8.500000   \nstd          847.994171                   62.500   96.521866     4.611258   \nmin            0.000000                    0.000    6.520000     1.000000   \n25%            1.000000                    0.000   23.460000     4.750000   \n50%           31.500000                    0.000   46.330000     8.500000   \n75%          214.500000                    0.000  106.720000    12.250000   \nmax         8300.000000                  250.000  400.310000    16.000000   \n\n          poblacion        tasa  \ncount  1.552000e+03  912.000000  \nmean   1.216144e+06   24.399794  \nstd    1.854756e+06   50.856275  \nmin    1.072970e+05    0.000000  \n25%    3.657570e+05    0.289078  \n50%    7.639750e+05    5.305173  \n75%    1.043742e+06   27.282167  \nmax    8.125072e+06  388.535675  ",
      "text/html": "<div>\n<style scoped>\n    .dataframe tbody tr th:only-of-type {\n        vertical-align: middle;\n    }\n\n    .dataframe tbody tr th {\n        vertical-align: top;\n    }\n\n    .dataframe thead th {\n        text-align: right;\n    }\n</style>\n<table border=\"1\" class=\"dataframe\">\n  <thead>\n    <tr style=\"text-align: right;\">\n      <th></th>\n      <th>casos_total</th>\n      <th>casos_nuevo_total</th>\n      <th>casos_nuevo_sintomas</th>\n      <th>casos_nuevo_nosintomas</th>\n      <th>muertes</th>\n      <th>muertes_total</th>\n      <th>casos_nuevo</th>\n      <th>casos_confirmado</th>\n      <th>casos_nuevo_nosintomas2</th>\n      <th>tpm</th>\n      <th>cod_region</th>\n      <th>poblacion</th>\n      <th>tasa</th>\n    </tr>\n  </thead>\n  <tbody>\n    <tr>\n      <th>count</th>\n      <td>640.000000</td>\n      <td>640.000000</td>\n      <td>640.000000</td>\n      <td>624.000000</td>\n      <td>1552.000000</td>\n      <td>96.000000</td>\n      <td>912.000000</td>\n      <td>912.000000</td>\n      <td>16.000</td>\n      <td>16.000000</td>\n      <td>1552.000000</td>\n      <td>1.552000e+03</td>\n      <td>912.000000</td>\n    </tr>\n    <tr>\n      <th>mean</th>\n      <td>3681.695312</td>\n      <td>187.164062</td>\n      <td>167.212500</td>\n      <td>20.062500</td>\n      <td>13.059923</td>\n      <td>87.968750</td>\n      <td>15.751096</td>\n      <td>275.662281</td>\n      <td>15.625</td>\n      <td>78.364375</td>\n      <td>8.500000</td>\n      <td>1.216144e+06</td>\n      <td>24.399794</td>\n    </tr>\n    <tr>\n      <th>std</th>\n      <td>13320.003662</td>\n      <td>684.582458</td>\n      <td>625.346853</td>\n      <td>62.362691</td>\n      <td>58.355651</td>\n      <td>259.091955</td>\n      <td>47.118606</td>\n      <td>847.994171</td>\n      <td>62.500</td>\n      <td>96.521866</td>\n      <td>4.611258</td>\n      <td>1.854756e+06</td>\n      <td>50.856275</td>\n    </tr>\n    <tr>\n      <th>min</th>\n      <td>7.000000</td>\n      <td>0.000000</td>\n      <td>0.000000</td>\n      <td>0.000000</td>\n      <td>0.000000</td>\n      <td>0.000000</td>\n      <td>0.000000</td>\n      <td>0.000000</td>\n      <td>0.000</td>\n      <td>6.520000</td>\n      <td>1.000000</td>\n      <td>1.072970e+05</td>\n      <td>0.000000</td>\n    </tr>\n    <tr>\n      <th>25%</th>\n      <td>308.000000</td>\n      <td>6.000000</td>\n      <td>4.000000</td>\n      <td>1.000000</td>\n      <td>0.000000</td>\n      <td>8.000000</td>\n      <td>0.000000</td>\n      <td>1.000000</td>\n      <td>0.000</td>\n      <td>23.460000</td>\n      <td>4.750000</td>\n      <td>3.657570e+05</td>\n      <td>0.289078</td>\n    </tr>\n    <tr>\n      <th>50%</th>\n      <td>775.000000</td>\n      <td>18.000000</td>\n      <td>14.000000</td>\n      <td>4.000000</td>\n      <td>1.000000</td>\n      <td>19.000000</td>\n      <td>2.000000</td>\n      <td>31.500000</td>\n      <td>0.000</td>\n      <td>46.330000</td>\n      <td>8.500000</td>\n      <td>7.639750e+05</td>\n      <td>5.305173</td>\n    </tr>\n    <tr>\n      <th>75%</th>\n      <td>1362.750000</td>\n      <td>52.250000</td>\n      <td>43.000000</td>\n      <td>9.000000</td>\n      <td>8.000000</td>\n      <td>32.500000</td>\n      <td>12.000000</td>\n      <td>214.500000</td>\n      <td>0.000</td>\n      <td>106.720000</td>\n      <td>12.250000</td>\n      <td>1.043742e+06</td>\n      <td>27.282167</td>\n    </tr>\n    <tr>\n      <th>max</th>\n      <td>108462.000000</td>\n      <td>5268.000000</td>\n      <td>4797.000000</td>\n      <td>471.000000</td>\n      <td>824.000000</td>\n      <td>1273.000000</td>\n      <td>442.000000</td>\n      <td>8300.000000</td>\n      <td>250.000</td>\n      <td>400.310000</td>\n      <td>16.000000</td>\n      <td>8.125072e+06</td>\n      <td>388.535675</td>\n    </tr>\n  </tbody>\n</table>\n</div>"
     },
     "metadata": {},
     "execution_count": 37
    }
   ],
   "source": [
    "df_prod11.describe()"
   ]
  },
  {
   "cell_type": "code",
   "execution_count": 38,
   "metadata": {},
   "outputs": [
    {
     "output_type": "execute_result",
     "data": {
      "text/plain": "97"
     },
     "metadata": {},
     "execution_count": 38
    }
   ],
   "source": [
    "df_prod11.base_dt.nunique()"
   ]
  },
  {
   "cell_type": "markdown",
   "metadata": {},
   "source": [
    "#### Limpieza"
   ]
  },
  {
   "cell_type": "code",
   "execution_count": 39,
   "metadata": {},
   "outputs": [],
   "source": [
    "del column_names, column_rename, dict_region, folder, prod1_folder, prod2_folder, prod2_files\n",
    "del prod4_files, prod4_folder, prod5_folder, prod6_folder, prod11_folder"
   ]
  },
  {
   "cell_type": "markdown",
   "metadata": {},
   "source": [
    "## Comparación de totales por región (productos 1, 2, 4, 6, 11)\n",
    "Para obtener una primera imagen de consistencia, se toma como fecha base `base_dt` = 2020-07-10 y se revisarán los datos de la región de Arica y Parinacota (`cod_region` = 15)."
   ]
  },
  {
   "cell_type": "code",
   "execution_count": 40,
   "metadata": {
    "tags": []
   },
   "outputs": [
    {
     "output_type": "stream",
     "name": "stdout",
     "text": "Datos del producto 1 \n---\nbase_dt\n2020-07-10    2493.0\nName: casos_total, dtype: float64 \n\n\nDatos del producto 2 \n---\nbase_dt\n2020-07-10    2493.0\nName: casos_total, dtype: float64 \n\n\nDatos del producto 4 \n---\nbase_dt\n2020-07-10    2322\nName: casos_total, dtype: int64 \n\n\nDatos del producto 6 \n---\nbase_dt\n2020-07-10    2490.0\nName: casos_total, dtype: float64 \n\n\nDatos del producto 11 \n---\nSeries([], Name: casos_total, dtype: float64) \n\n\n"
    }
   ],
   "source": [
    "get_sample_comp_1(df_prod1, 1, True)\n",
    "get_sample_comp_1(df_prod2, 2, True)\n",
    "get_sample_comp_1(df_prod4, 4, True)\n",
    "get_sample_comp_1(df_prod6, 6, True)\n",
    "get_sample_comp_1(df_prod11, 11, True)"
   ]
  },
  {
   "cell_type": "code",
   "execution_count": 41,
   "metadata": {
    "tags": []
   },
   "outputs": [
    {
     "output_type": "stream",
     "name": "stdout",
     "text": "Datos del producto 1 \n---\n          base_dt  cod_region  casos_total\n11222  2020-07-10          15       2464.0\n11223  2020-07-10          15          0.0\n11224  2020-07-10          15          0.0\n11225  2020-07-10          15         26.0\n11226  2020-07-10          15          3.0 \n\n\nDatos del producto 2 \n---\n      base_dt cod_region  casos_total\n0  2020-07-10         15       2464.0\n1  2020-07-10         15          0.0\n2  2020-07-10         15          0.0\n3  2020-07-10         15         26.0\n4  2020-07-10         15          3.0 \n\n\nDatos del producto 4 \n---\n      base_dt  cod_region casos_total\n0  2020-07-10        15.0        2322 \n\n\nDatos del producto 6 \n---\n        base_dt  cod_region  casos_total\n11   2020-07-10        15.0       2464.0\n46   2020-07-10        15.0          0.0\n81   2020-07-10        15.0          0.0\n116  2020-07-10        15.0         26.0 \n\n\nDatos del producto 11 \n---\nEmpty DataFrame\nColumns: [base_dt, cod_region, casos_total]\nIndex: [] \n\n\n"
    }
   ],
   "source": [
    "get_sample_comp_1(df_prod1, 1, False)\n",
    "get_sample_comp_1(df_prod2, 2, False)\n",
    "get_sample_comp_1(df_prod4, 4, False)\n",
    "get_sample_comp_1(df_prod6, 6, False)\n",
    "get_sample_comp_1(df_prod11, 11, False)"
   ]
  },
  {
   "cell_type": "markdown",
   "metadata": {},
   "source": [
    "Se observan las primeras discrepancias:\n",
    "* El producto 11 **no está actualizado** a la fecha más reciente (un breve estudio de los datos muestra que se dejó de actualizar a mediados de junio de 2020).\n",
    "* El producto 6 **no incluye los datos** de la región seleccionada con comuna desconocida. Faltaría validar que esos valores se consideren en una región distinta (es decir, validar los totales nacionales), pero una comparación por región no es posible.\n",
    "* El producto 1 y el producto 2 entregan los mismos valores para las condiciones elegidas.\n",
    "* El producto 4 **no coincide** con el producto 1/producto 2. Esto es grave, puesto que el producto 4 es el total por región, y los productos 1 y 2 son el total por región desagregado a comuna."
   ]
  },
  {
   "cell_type": "markdown",
   "metadata": {},
   "source": [
    "A continuación, se armonizarán los datos a nivel de regiones entre los productos 1, 2 y 4, para identificar las diferencias que puedan existir."
   ]
  },
  {
   "cell_type": "code",
   "execution_count": 42,
   "metadata": {},
   "outputs": [],
   "source": [
    "grpby = [\"cod_region\", \"base_dt\"]\n",
    "df_prod1_agg = df_prod1.groupby(grpby)[\"casos_total\"].sum().reset_index()\n",
    "df_prod2_agg = df_prod2.groupby(grpby)[\"casos_total\"].sum().reset_index()\n",
    "df_prod4_agg = df_prod4.groupby(grpby)[\"casos_total\"].sum().reset_index()"
   ]
  },
  {
   "cell_type": "code",
   "execution_count": 43,
   "metadata": {},
   "outputs": [
    {
     "output_type": "execute_result",
     "data": {
      "text/plain": "   cod_region     base_dt  casos_total\n0           1  2020-03-30          5.0\n1           1  2020-04-01          9.0\n2           1  2020-04-03         10.0\n3           1  2020-04-06         18.0\n4           1  2020-04-08         22.0",
      "text/html": "<div>\n<style scoped>\n    .dataframe tbody tr th:only-of-type {\n        vertical-align: middle;\n    }\n\n    .dataframe tbody tr th {\n        vertical-align: top;\n    }\n\n    .dataframe thead th {\n        text-align: right;\n    }\n</style>\n<table border=\"1\" class=\"dataframe\">\n  <thead>\n    <tr style=\"text-align: right;\">\n      <th></th>\n      <th>cod_region</th>\n      <th>base_dt</th>\n      <th>casos_total</th>\n    </tr>\n  </thead>\n  <tbody>\n    <tr>\n      <th>0</th>\n      <td>1</td>\n      <td>2020-03-30</td>\n      <td>5.0</td>\n    </tr>\n    <tr>\n      <th>1</th>\n      <td>1</td>\n      <td>2020-04-01</td>\n      <td>9.0</td>\n    </tr>\n    <tr>\n      <th>2</th>\n      <td>1</td>\n      <td>2020-04-03</td>\n      <td>10.0</td>\n    </tr>\n    <tr>\n      <th>3</th>\n      <td>1</td>\n      <td>2020-04-06</td>\n      <td>18.0</td>\n    </tr>\n    <tr>\n      <th>4</th>\n      <td>1</td>\n      <td>2020-04-08</td>\n      <td>22.0</td>\n    </tr>\n  </tbody>\n</table>\n</div>"
     },
     "metadata": {},
     "execution_count": 43
    }
   ],
   "source": [
    "df_prod1_agg.head()"
   ]
  },
  {
   "cell_type": "code",
   "execution_count": 44,
   "metadata": {},
   "outputs": [
    {
     "output_type": "execute_result",
     "data": {
      "text/plain": "   cod_region     base_dt  casos_total\n0           1  2020-03-30          5.0\n1           1  2020-04-01          9.0\n2           1  2020-04-03         10.0\n3           1  2020-04-06         18.0\n4           1  2020-04-08         22.0",
      "text/html": "<div>\n<style scoped>\n    .dataframe tbody tr th:only-of-type {\n        vertical-align: middle;\n    }\n\n    .dataframe tbody tr th {\n        vertical-align: top;\n    }\n\n    .dataframe thead th {\n        text-align: right;\n    }\n</style>\n<table border=\"1\" class=\"dataframe\">\n  <thead>\n    <tr style=\"text-align: right;\">\n      <th></th>\n      <th>cod_region</th>\n      <th>base_dt</th>\n      <th>casos_total</th>\n    </tr>\n  </thead>\n  <tbody>\n    <tr>\n      <th>0</th>\n      <td>1</td>\n      <td>2020-03-30</td>\n      <td>5.0</td>\n    </tr>\n    <tr>\n      <th>1</th>\n      <td>1</td>\n      <td>2020-04-01</td>\n      <td>9.0</td>\n    </tr>\n    <tr>\n      <th>2</th>\n      <td>1</td>\n      <td>2020-04-03</td>\n      <td>10.0</td>\n    </tr>\n    <tr>\n      <th>3</th>\n      <td>1</td>\n      <td>2020-04-06</td>\n      <td>18.0</td>\n    </tr>\n    <tr>\n      <th>4</th>\n      <td>1</td>\n      <td>2020-04-08</td>\n      <td>22.0</td>\n    </tr>\n  </tbody>\n</table>\n</div>"
     },
     "metadata": {},
     "execution_count": 44
    }
   ],
   "source": [
    "df_prod2_agg.head()"
   ]
  },
  {
   "cell_type": "code",
   "execution_count": 45,
   "metadata": {},
   "outputs": [
    {
     "output_type": "execute_result",
     "data": {
      "text/plain": "   cod_region     base_dt  casos_total\n0         0.0  2020-03-03          1.0\n1         0.0  2020-03-04          3.0\n2         0.0  2020-03-05          4.0\n3         0.0  2020-03-06          5.0\n4         0.0  2020-03-07          7.0",
      "text/html": "<div>\n<style scoped>\n    .dataframe tbody tr th:only-of-type {\n        vertical-align: middle;\n    }\n\n    .dataframe tbody tr th {\n        vertical-align: top;\n    }\n\n    .dataframe thead th {\n        text-align: right;\n    }\n</style>\n<table border=\"1\" class=\"dataframe\">\n  <thead>\n    <tr style=\"text-align: right;\">\n      <th></th>\n      <th>cod_region</th>\n      <th>base_dt</th>\n      <th>casos_total</th>\n    </tr>\n  </thead>\n  <tbody>\n    <tr>\n      <th>0</th>\n      <td>0.0</td>\n      <td>2020-03-03</td>\n      <td>1.0</td>\n    </tr>\n    <tr>\n      <th>1</th>\n      <td>0.0</td>\n      <td>2020-03-04</td>\n      <td>3.0</td>\n    </tr>\n    <tr>\n      <th>2</th>\n      <td>0.0</td>\n      <td>2020-03-05</td>\n      <td>4.0</td>\n    </tr>\n    <tr>\n      <th>3</th>\n      <td>0.0</td>\n      <td>2020-03-06</td>\n      <td>5.0</td>\n    </tr>\n    <tr>\n      <th>4</th>\n      <td>0.0</td>\n      <td>2020-03-07</td>\n      <td>7.0</td>\n    </tr>\n  </tbody>\n</table>\n</div>"
     },
     "metadata": {},
     "execution_count": 45
    }
   ],
   "source": [
    "df_prod4_agg.head()"
   ]
  },
  {
   "cell_type": "code",
   "execution_count": 46,
   "metadata": {},
   "outputs": [],
   "source": [
    "column_rename = {\"casos_total_x\": \"casos_prod1\",\n",
    "                    \"casos_total_y\": \"casos_prod2\",\n",
    "                    \"casos_total\": \"casos_prod4\"}\n",
    "\n",
    "df_armonizacion = pd.merge(left = df_prod1_agg, right = df_prod2_agg, how = \"outer\", on = [\"cod_region\", \"base_dt\"])\n",
    "df_armonizacion = pd.merge(left = df_armonizacion, right = df_prod4_agg, how = \"outer\", on = [\"cod_region\", \"base_dt\"])\n",
    "df_armonizacion.rename(columns = column_rename, inplace = True)\n",
    "df_armonizacion[\"dif_1_2\"] = df_armonizacion.casos_prod1 - df_armonizacion.casos_prod2\n",
    "df_armonizacion[\"dif_1_4\"] = df_armonizacion.casos_prod1 - df_armonizacion.casos_prod4\n",
    "df_armonizacion[\"dif_2_4\"] = df_armonizacion.casos_prod2 - df_armonizacion.casos_prod4"
   ]
  },
  {
   "cell_type": "code",
   "execution_count": 47,
   "metadata": {},
   "outputs": [
    {
     "output_type": "execute_result",
     "data": {
      "text/plain": "   cod_region     base_dt  casos_prod1  casos_prod2  casos_prod4  dif_1_2  \\\n0           1  2020-03-30          5.0          5.0          8.0      0.0   \n1           1  2020-04-01          9.0          9.0         10.0      0.0   \n2           1  2020-04-03         10.0         10.0         13.0      0.0   \n3           1  2020-04-06         18.0         18.0         21.0      0.0   \n4           1  2020-04-08         22.0         22.0         26.0      0.0   \n\n   dif_1_4  dif_2_4  \n0     -3.0     -3.0  \n1     -1.0     -1.0  \n2     -3.0     -3.0  \n3     -3.0     -3.0  \n4     -4.0     -4.0  ",
      "text/html": "<div>\n<style scoped>\n    .dataframe tbody tr th:only-of-type {\n        vertical-align: middle;\n    }\n\n    .dataframe tbody tr th {\n        vertical-align: top;\n    }\n\n    .dataframe thead th {\n        text-align: right;\n    }\n</style>\n<table border=\"1\" class=\"dataframe\">\n  <thead>\n    <tr style=\"text-align: right;\">\n      <th></th>\n      <th>cod_region</th>\n      <th>base_dt</th>\n      <th>casos_prod1</th>\n      <th>casos_prod2</th>\n      <th>casos_prod4</th>\n      <th>dif_1_2</th>\n      <th>dif_1_4</th>\n      <th>dif_2_4</th>\n    </tr>\n  </thead>\n  <tbody>\n    <tr>\n      <th>0</th>\n      <td>1</td>\n      <td>2020-03-30</td>\n      <td>5.0</td>\n      <td>5.0</td>\n      <td>8.0</td>\n      <td>0.0</td>\n      <td>-3.0</td>\n      <td>-3.0</td>\n    </tr>\n    <tr>\n      <th>1</th>\n      <td>1</td>\n      <td>2020-04-01</td>\n      <td>9.0</td>\n      <td>9.0</td>\n      <td>10.0</td>\n      <td>0.0</td>\n      <td>-1.0</td>\n      <td>-1.0</td>\n    </tr>\n    <tr>\n      <th>2</th>\n      <td>1</td>\n      <td>2020-04-03</td>\n      <td>10.0</td>\n      <td>10.0</td>\n      <td>13.0</td>\n      <td>0.0</td>\n      <td>-3.0</td>\n      <td>-3.0</td>\n    </tr>\n    <tr>\n      <th>3</th>\n      <td>1</td>\n      <td>2020-04-06</td>\n      <td>18.0</td>\n      <td>18.0</td>\n      <td>21.0</td>\n      <td>0.0</td>\n      <td>-3.0</td>\n      <td>-3.0</td>\n    </tr>\n    <tr>\n      <th>4</th>\n      <td>1</td>\n      <td>2020-04-08</td>\n      <td>22.0</td>\n      <td>22.0</td>\n      <td>26.0</td>\n      <td>0.0</td>\n      <td>-4.0</td>\n      <td>-4.0</td>\n    </tr>\n  </tbody>\n</table>\n</div>"
     },
     "metadata": {},
     "execution_count": 47
    }
   ],
   "source": [
    "df_armonizacion.head()"
   ]
  },
  {
   "cell_type": "code",
   "execution_count": 48,
   "metadata": {},
   "outputs": [
    {
     "output_type": "execute_result",
     "data": {
      "text/plain": "        cod_region    casos_prod1    casos_prod2    casos_prod4  dif_1_2  \\\ncount  2414.000000     560.000000     560.000000    2414.000000    560.0   \nmean      8.000000    7336.971429    7336.971429   11966.611433      0.0   \nstd       4.899995   33281.998142   33281.998142   46495.438225      0.0   \nmin       0.000000       0.000000       0.000000       0.000000      0.0   \n25%       4.000000     167.500000     167.500000      56.000000      0.0   \n50%       8.000000     743.500000     743.500000     652.000000      0.0   \n75%      12.000000    2424.750000    2424.750000    2573.000000      0.0   \nmax      16.000000  275391.000000  275391.000000  336402.000000      0.0   \n\n            dif_1_4       dif_2_4  \ncount    560.000000    560.000000  \nmean     518.419643    518.419643  \nstd     3141.737768   3141.737768  \nmin     -129.000000   -129.000000  \n25%       -6.000000     -6.000000  \n50%        0.000000      0.000000  \n75%       28.250000     28.250000  \nmax    28731.000000  28731.000000  ",
      "text/html": "<div>\n<style scoped>\n    .dataframe tbody tr th:only-of-type {\n        vertical-align: middle;\n    }\n\n    .dataframe tbody tr th {\n        vertical-align: top;\n    }\n\n    .dataframe thead th {\n        text-align: right;\n    }\n</style>\n<table border=\"1\" class=\"dataframe\">\n  <thead>\n    <tr style=\"text-align: right;\">\n      <th></th>\n      <th>cod_region</th>\n      <th>casos_prod1</th>\n      <th>casos_prod2</th>\n      <th>casos_prod4</th>\n      <th>dif_1_2</th>\n      <th>dif_1_4</th>\n      <th>dif_2_4</th>\n    </tr>\n  </thead>\n  <tbody>\n    <tr>\n      <th>count</th>\n      <td>2414.000000</td>\n      <td>560.000000</td>\n      <td>560.000000</td>\n      <td>2414.000000</td>\n      <td>560.0</td>\n      <td>560.000000</td>\n      <td>560.000000</td>\n    </tr>\n    <tr>\n      <th>mean</th>\n      <td>8.000000</td>\n      <td>7336.971429</td>\n      <td>7336.971429</td>\n      <td>11966.611433</td>\n      <td>0.0</td>\n      <td>518.419643</td>\n      <td>518.419643</td>\n    </tr>\n    <tr>\n      <th>std</th>\n      <td>4.899995</td>\n      <td>33281.998142</td>\n      <td>33281.998142</td>\n      <td>46495.438225</td>\n      <td>0.0</td>\n      <td>3141.737768</td>\n      <td>3141.737768</td>\n    </tr>\n    <tr>\n      <th>min</th>\n      <td>0.000000</td>\n      <td>0.000000</td>\n      <td>0.000000</td>\n      <td>0.000000</td>\n      <td>0.0</td>\n      <td>-129.000000</td>\n      <td>-129.000000</td>\n    </tr>\n    <tr>\n      <th>25%</th>\n      <td>4.000000</td>\n      <td>167.500000</td>\n      <td>167.500000</td>\n      <td>56.000000</td>\n      <td>0.0</td>\n      <td>-6.000000</td>\n      <td>-6.000000</td>\n    </tr>\n    <tr>\n      <th>50%</th>\n      <td>8.000000</td>\n      <td>743.500000</td>\n      <td>743.500000</td>\n      <td>652.000000</td>\n      <td>0.0</td>\n      <td>0.000000</td>\n      <td>0.000000</td>\n    </tr>\n    <tr>\n      <th>75%</th>\n      <td>12.000000</td>\n      <td>2424.750000</td>\n      <td>2424.750000</td>\n      <td>2573.000000</td>\n      <td>0.0</td>\n      <td>28.250000</td>\n      <td>28.250000</td>\n    </tr>\n    <tr>\n      <th>max</th>\n      <td>16.000000</td>\n      <td>275391.000000</td>\n      <td>275391.000000</td>\n      <td>336402.000000</td>\n      <td>0.0</td>\n      <td>28731.000000</td>\n      <td>28731.000000</td>\n    </tr>\n  </tbody>\n</table>\n</div>"
     },
     "metadata": {},
     "execution_count": 48
    }
   ],
   "source": [
    "df_armonizacion.describe()"
   ]
  },
  {
   "cell_type": "markdown",
   "metadata": {},
   "source": [
    "Se aprecia en la tabla superior que:\n",
    "* Los productos 1 y 2 son idénticos.\n",
    "    * `count(casos_prod_1) = count(casos_prod_2)`\n",
    "    * `min(dif_1_2) = 0`; `max(dif_1_2) = 0`\n",
    "* Los prductos 1 y 2 tienen menos registros que el producto 4 \n",
    "    * `count(casos_prod_1) < count(casos_prod_4)`\n",
    "    * Esto se debe a que los productos 1/2 contienen los informes emitidos por el MINSAL, mientras que el producto 4 tiene los datos diarios.\n",
    "* Entre los productos 1/2 y 4, se aprecian diferencias importantes, con una diferencia mínima de 129 casos totales, y una diferencia máxima de 28.731 casos.\n",
    "    * `min(dif_2_4) = -129`\n",
    "    * `max(dif_2_4) = 28731`\n",
    "    * `median(dif_2_4) = 0` "
   ]
  },
  {
   "cell_type": "markdown",
   "metadata": {},
   "source": [
    "#### Limpieza"
   ]
  },
  {
   "cell_type": "code",
   "execution_count": 49,
   "metadata": {},
   "outputs": [],
   "source": [
    "del column_rename, grpby, df_armonizacion, df_prod1_agg, df_prod2_agg, df_prod4_agg"
   ]
  },
  {
   "cell_type": "markdown",
   "metadata": {},
   "source": [
    "## Comparación de totales nacionales (productos 1/2, 4, 5)\n",
    "Para obtener una primera imagen de consistencia, se toma como fecha base `base_dt` = 2020-07-10."
   ]
  },
  {
   "cell_type": "code",
   "execution_count": 50,
   "metadata": {
    "tags": []
   },
   "outputs": [
    {
     "output_type": "stream",
     "name": "stdout",
     "text": "Datos del producto 1 \n---\nbase_dt\n2020-07-10    346601.0\nName: casos_total, dtype: float64 \n\n\nDatos del producto 2 \n---\nbase_dt\n2020-07-10    346601.0\nName: casos_total, dtype: float64 \n\n\nDatos del producto 4 \n---\nbase_dt\n2020-07-10    309274\nName: casos_total, dtype: int64 \n\n\nDatos del producto 5 \n---\nbase_dt\n2020-07-10    309274.0\nName: casos_total, dtype: float64 \n\n\n"
    }
   ],
   "source": [
    "get_sample_comp_2(df_prod1, 1, True)\n",
    "get_sample_comp_2(df_prod2, 2, True)\n",
    "get_sample_comp_2(df_prod4, 4, True)\n",
    "get_sample_comp_2(df_prod5, 5, True)"
   ]
  },
  {
   "cell_type": "code",
   "execution_count": 51,
   "metadata": {
    "tags": []
   },
   "outputs": [
    {
     "output_type": "stream",
     "name": "stdout",
     "text": "Datos del producto 1 \n---\n          base_dt  casos_total\n11222  2020-07-10       2464.0\n11223  2020-07-10          0.0\n11224  2020-07-10          0.0\n11225  2020-07-10         26.0\n11226  2020-07-10          3.0\n...           ...          ...\n11579  2020-07-10          0.0\n11580  2020-07-10          2.0\n11581  2020-07-10          0.0\n11582  2020-07-10          1.0\n11583  2020-07-10         70.0\n\n[362 rows x 2 columns] \n\n\nDatos del producto 2 \n---\n        base_dt  casos_total\n0    2020-07-10       2464.0\n1    2020-07-10          0.0\n2    2020-07-10          0.0\n3    2020-07-10         26.0\n4    2020-07-10          3.0\n..          ...          ...\n357  2020-07-10          0.0\n358  2020-07-10          2.0\n359  2020-07-10          0.0\n360  2020-07-10          1.0\n361  2020-07-10         70.0\n\n[362 rows x 2 columns] \n\n\nDatos del producto 4 \n---\n       base_dt casos_total\n0   2020-07-10        2322\n1   2020-07-10        6961\n2   2020-07-10       11267\n3   2020-07-10        1467\n4   2020-07-10        3918\n5   2020-07-10       14053\n6   2020-07-10      235370\n7   2020-07-10        8069\n8   2020-07-10        6833\n9   2020-07-10        2838\n10  2020-07-10        8151\n11  2020-07-10        3538\n12  2020-07-10         758\n13  2020-07-10        2146\n14  2020-07-10          50\n15  2020-07-10        1533 \n\n\nDatos del producto 5 \n---\n        base_dt  casos_total\n130  2020-07-10     309274.0 \n\n\n"
    }
   ],
   "source": [
    "get_sample_comp_2(df_prod1, 1, False)\n",
    "get_sample_comp_2(df_prod2, 2, False)\n",
    "get_sample_comp_2(df_prod4, 4, False)\n",
    "get_sample_comp_2(df_prod5, 5, False)"
   ]
  },
  {
   "cell_type": "markdown",
   "metadata": {},
   "source": [
    "Se observan las discrepancias esperadas:\n",
    "* Productos 1 y 2 discrepan de los resultados de los productos 4 y 5 (totales regionales y total nacional).\n",
    "* Productos 1 y 2 son equivalentes en su composición.\n",
    "Se observan, también, los siguientes resultados:\n",
    "* Los productos 4 y 5 entregan el mismo resultado para la fecha analizada, aún cuando sus composiciones son diferentes."
   ]
  },
  {
   "cell_type": "markdown",
   "metadata": {},
   "source": [
    "A continuación, se armonizarán los valores en el total nacional, para analizar las diferencias que puedan existir. Sólo se usará el conjunto de datos del producto 2, entendiendo que los productos 1 y 2 son idénticos en su nivel agregado."
   ]
  },
  {
   "cell_type": "code",
   "execution_count": 52,
   "metadata": {},
   "outputs": [],
   "source": [
    "grpby = [\"base_dt\"]\n",
    "df_prod2_agg = df_prod2.groupby(grpby)[\"casos_total\"].sum().reset_index()\n",
    "df_prod4_agg = df_prod4.groupby(grpby)[\"casos_total\"].sum().reset_index()"
   ]
  },
  {
   "cell_type": "code",
   "execution_count": 53,
   "metadata": {},
   "outputs": [
    {
     "output_type": "execute_result",
     "data": {
      "text/plain": "      base_dt  casos_total\n0  2020-03-30       1937.0\n1  2020-04-01       2817.0\n2  2020-04-03       3515.0\n3  2020-04-06       4586.0\n4  2020-04-08       5294.0",
      "text/html": "<div>\n<style scoped>\n    .dataframe tbody tr th:only-of-type {\n        vertical-align: middle;\n    }\n\n    .dataframe tbody tr th {\n        vertical-align: top;\n    }\n\n    .dataframe thead th {\n        text-align: right;\n    }\n</style>\n<table border=\"1\" class=\"dataframe\">\n  <thead>\n    <tr style=\"text-align: right;\">\n      <th></th>\n      <th>base_dt</th>\n      <th>casos_total</th>\n    </tr>\n  </thead>\n  <tbody>\n    <tr>\n      <th>0</th>\n      <td>2020-03-30</td>\n      <td>1937.0</td>\n    </tr>\n    <tr>\n      <th>1</th>\n      <td>2020-04-01</td>\n      <td>2817.0</td>\n    </tr>\n    <tr>\n      <th>2</th>\n      <td>2020-04-03</td>\n      <td>3515.0</td>\n    </tr>\n    <tr>\n      <th>3</th>\n      <td>2020-04-06</td>\n      <td>4586.0</td>\n    </tr>\n    <tr>\n      <th>4</th>\n      <td>2020-04-08</td>\n      <td>5294.0</td>\n    </tr>\n  </tbody>\n</table>\n</div>"
     },
     "metadata": {},
     "execution_count": 53
    }
   ],
   "source": [
    "df_prod2_agg.head()"
   ]
  },
  {
   "cell_type": "code",
   "execution_count": 54,
   "metadata": {},
   "outputs": [
    {
     "output_type": "execute_result",
     "data": {
      "text/plain": "      base_dt  casos_total\n0  2020-03-03          2.0\n1  2020-03-04          6.0\n2  2020-03-05          8.0\n3  2020-03-06         10.0\n4  2020-03-07         14.0",
      "text/html": "<div>\n<style scoped>\n    .dataframe tbody tr th:only-of-type {\n        vertical-align: middle;\n    }\n\n    .dataframe tbody tr th {\n        vertical-align: top;\n    }\n\n    .dataframe thead th {\n        text-align: right;\n    }\n</style>\n<table border=\"1\" class=\"dataframe\">\n  <thead>\n    <tr style=\"text-align: right;\">\n      <th></th>\n      <th>base_dt</th>\n      <th>casos_total</th>\n    </tr>\n  </thead>\n  <tbody>\n    <tr>\n      <th>0</th>\n      <td>2020-03-03</td>\n      <td>2.0</td>\n    </tr>\n    <tr>\n      <th>1</th>\n      <td>2020-03-04</td>\n      <td>6.0</td>\n    </tr>\n    <tr>\n      <th>2</th>\n      <td>2020-03-05</td>\n      <td>8.0</td>\n    </tr>\n    <tr>\n      <th>3</th>\n      <td>2020-03-06</td>\n      <td>10.0</td>\n    </tr>\n    <tr>\n      <th>4</th>\n      <td>2020-03-07</td>\n      <td>14.0</td>\n    </tr>\n  </tbody>\n</table>\n</div>"
     },
     "metadata": {},
     "execution_count": 54
    }
   ],
   "source": [
    "df_prod4_agg.head()"
   ]
  },
  {
   "cell_type": "code",
   "execution_count": 55,
   "metadata": {},
   "outputs": [],
   "source": [
    "columns_select = [\"base_dt\", \"casos_total\"]\n",
    "df_prod5_agg = df_prod5[columns_select]"
   ]
  },
  {
   "cell_type": "code",
   "execution_count": 57,
   "metadata": {},
   "outputs": [
    {
     "output_type": "execute_result",
     "data": {
      "text/plain": "      base_dt  casos_total\n0  2020-03-02          1.0\n1  2020-03-03          1.0\n2  2020-03-04          3.0\n3  2020-03-05          4.0\n4  2020-03-06          5.0",
      "text/html": "<div>\n<style scoped>\n    .dataframe tbody tr th:only-of-type {\n        vertical-align: middle;\n    }\n\n    .dataframe tbody tr th {\n        vertical-align: top;\n    }\n\n    .dataframe thead th {\n        text-align: right;\n    }\n</style>\n<table border=\"1\" class=\"dataframe\">\n  <thead>\n    <tr style=\"text-align: right;\">\n      <th></th>\n      <th>base_dt</th>\n      <th>casos_total</th>\n    </tr>\n  </thead>\n  <tbody>\n    <tr>\n      <th>0</th>\n      <td>2020-03-02</td>\n      <td>1.0</td>\n    </tr>\n    <tr>\n      <th>1</th>\n      <td>2020-03-03</td>\n      <td>1.0</td>\n    </tr>\n    <tr>\n      <th>2</th>\n      <td>2020-03-04</td>\n      <td>3.0</td>\n    </tr>\n    <tr>\n      <th>3</th>\n      <td>2020-03-05</td>\n      <td>4.0</td>\n    </tr>\n    <tr>\n      <th>4</th>\n      <td>2020-03-06</td>\n      <td>5.0</td>\n    </tr>\n  </tbody>\n</table>\n</div>"
     },
     "metadata": {},
     "execution_count": 57
    }
   ],
   "source": [
    "df_prod5_agg.head()"
   ]
  },
  {
   "cell_type": "code",
   "execution_count": 58,
   "metadata": {},
   "outputs": [],
   "source": [
    "column_rename = {\"casos_total_x\": \"casos_prod2\",\n",
    "                    \"casos_total_y\": \"casos_prod4\",\n",
    "                    \"casos_total\": \"casos_prod5\"}\n",
    "\n",
    "df_armonizacion = pd.merge(left = df_prod2_agg, right = df_prod4_agg, how = \"outer\", on = [\"base_dt\"])\n",
    "df_armonizacion = pd.merge(left = df_armonizacion, right = df_prod5_agg, how = \"outer\", on = [\"base_dt\"])\n",
    "df_armonizacion.rename(columns = column_rename, inplace = True)\n",
    "df_armonizacion[\"dif_2_4\"] = df_armonizacion.casos_prod2 - df_armonizacion.casos_prod4\n",
    "df_armonizacion[\"dif_2_5\"] = df_armonizacion.casos_prod2 - df_armonizacion.casos_prod5\n",
    "df_armonizacion[\"dif_4_5\"] = df_armonizacion.casos_prod4 - df_armonizacion.casos_prod5"
   ]
  },
  {
   "cell_type": "code",
   "execution_count": 59,
   "metadata": {},
   "outputs": [
    {
     "output_type": "execute_result",
     "data": {
      "text/plain": "      base_dt  casos_prod2  casos_prod4  casos_prod5  dif_2_4  dif_2_5  \\\n0  2020-03-30       1937.0       4898.0       2449.0  -2961.0   -512.0   \n1  2020-04-01       2817.0       6062.0       3031.0  -3245.0   -214.0   \n2  2020-04-03       3515.0       7474.0       3737.0  -3959.0   -222.0   \n3  2020-04-06       4586.0       9630.0       4815.0  -5044.0   -229.0   \n4  2020-04-08       5294.0      11092.0       5546.0  -5798.0   -252.0   \n\n   dif_4_5  \n0   2449.0  \n1   3031.0  \n2   3737.0  \n3   4815.0  \n4   5546.0  ",
      "text/html": "<div>\n<style scoped>\n    .dataframe tbody tr th:only-of-type {\n        vertical-align: middle;\n    }\n\n    .dataframe tbody tr th {\n        vertical-align: top;\n    }\n\n    .dataframe thead th {\n        text-align: right;\n    }\n</style>\n<table border=\"1\" class=\"dataframe\">\n  <thead>\n    <tr style=\"text-align: right;\">\n      <th></th>\n      <th>base_dt</th>\n      <th>casos_prod2</th>\n      <th>casos_prod4</th>\n      <th>casos_prod5</th>\n      <th>dif_2_4</th>\n      <th>dif_2_5</th>\n      <th>dif_4_5</th>\n    </tr>\n  </thead>\n  <tbody>\n    <tr>\n      <th>0</th>\n      <td>2020-03-30</td>\n      <td>1937.0</td>\n      <td>4898.0</td>\n      <td>2449.0</td>\n      <td>-2961.0</td>\n      <td>-512.0</td>\n      <td>2449.0</td>\n    </tr>\n    <tr>\n      <th>1</th>\n      <td>2020-04-01</td>\n      <td>2817.0</td>\n      <td>6062.0</td>\n      <td>3031.0</td>\n      <td>-3245.0</td>\n      <td>-214.0</td>\n      <td>3031.0</td>\n    </tr>\n    <tr>\n      <th>2</th>\n      <td>2020-04-03</td>\n      <td>3515.0</td>\n      <td>7474.0</td>\n      <td>3737.0</td>\n      <td>-3959.0</td>\n      <td>-222.0</td>\n      <td>3737.0</td>\n    </tr>\n    <tr>\n      <th>3</th>\n      <td>2020-04-06</td>\n      <td>4586.0</td>\n      <td>9630.0</td>\n      <td>4815.0</td>\n      <td>-5044.0</td>\n      <td>-229.0</td>\n      <td>4815.0</td>\n    </tr>\n    <tr>\n      <th>4</th>\n      <td>2020-04-08</td>\n      <td>5294.0</td>\n      <td>11092.0</td>\n      <td>5546.0</td>\n      <td>-5798.0</td>\n      <td>-252.0</td>\n      <td>5546.0</td>\n    </tr>\n  </tbody>\n</table>\n</div>"
     },
     "metadata": {},
     "execution_count": 59
    }
   ],
   "source": [
    "df_armonizacion.head()"
   ]
  },
  {
   "cell_type": "code",
   "execution_count": 60,
   "metadata": {},
   "outputs": [
    {
     "output_type": "execute_result",
     "data": {
      "text/plain": "         casos_prod2    casos_prod4    casos_prod5        dif_2_4  \\\ncount      35.000000     142.000000     143.000000      35.000000   \nmean   117391.542857  203435.936620  101006.664336 -100810.485714   \nstd    132939.069865  238069.943565  118919.689709  105597.194732   \nmin      1937.000000       2.000000       1.000000 -294809.000000   \n25%      9835.000000   10447.000000    4965.500000 -195740.000000   \n50%     46022.000000   66102.000000   31721.000000  -46096.000000   \n75%    215089.000000  423166.500000  202538.500000   -9924.000000   \nmax    371249.000000  672804.000000  336402.000000   -2961.000000   \n\n            dif_2_5        dif_4_5  \ncount     35.000000     142.000000  \nmean    8290.514286  101717.964789  \nstd    14882.008017  119034.971680  \nmin     -512.000000       1.000000  \n25%      -97.500000    5223.500000  \n50%      -38.000000   33051.000000  \n75%     9680.000000  211583.250000  \nmax    39984.000000  336402.000000  ",
      "text/html": "<div>\n<style scoped>\n    .dataframe tbody tr th:only-of-type {\n        vertical-align: middle;\n    }\n\n    .dataframe tbody tr th {\n        vertical-align: top;\n    }\n\n    .dataframe thead th {\n        text-align: right;\n    }\n</style>\n<table border=\"1\" class=\"dataframe\">\n  <thead>\n    <tr style=\"text-align: right;\">\n      <th></th>\n      <th>casos_prod2</th>\n      <th>casos_prod4</th>\n      <th>casos_prod5</th>\n      <th>dif_2_4</th>\n      <th>dif_2_5</th>\n      <th>dif_4_5</th>\n    </tr>\n  </thead>\n  <tbody>\n    <tr>\n      <th>count</th>\n      <td>35.000000</td>\n      <td>142.000000</td>\n      <td>143.000000</td>\n      <td>35.000000</td>\n      <td>35.000000</td>\n      <td>142.000000</td>\n    </tr>\n    <tr>\n      <th>mean</th>\n      <td>117391.542857</td>\n      <td>203435.936620</td>\n      <td>101006.664336</td>\n      <td>-100810.485714</td>\n      <td>8290.514286</td>\n      <td>101717.964789</td>\n    </tr>\n    <tr>\n      <th>std</th>\n      <td>132939.069865</td>\n      <td>238069.943565</td>\n      <td>118919.689709</td>\n      <td>105597.194732</td>\n      <td>14882.008017</td>\n      <td>119034.971680</td>\n    </tr>\n    <tr>\n      <th>min</th>\n      <td>1937.000000</td>\n      <td>2.000000</td>\n      <td>1.000000</td>\n      <td>-294809.000000</td>\n      <td>-512.000000</td>\n      <td>1.000000</td>\n    </tr>\n    <tr>\n      <th>25%</th>\n      <td>9835.000000</td>\n      <td>10447.000000</td>\n      <td>4965.500000</td>\n      <td>-195740.000000</td>\n      <td>-97.500000</td>\n      <td>5223.500000</td>\n    </tr>\n    <tr>\n      <th>50%</th>\n      <td>46022.000000</td>\n      <td>66102.000000</td>\n      <td>31721.000000</td>\n      <td>-46096.000000</td>\n      <td>-38.000000</td>\n      <td>33051.000000</td>\n    </tr>\n    <tr>\n      <th>75%</th>\n      <td>215089.000000</td>\n      <td>423166.500000</td>\n      <td>202538.500000</td>\n      <td>-9924.000000</td>\n      <td>9680.000000</td>\n      <td>211583.250000</td>\n    </tr>\n    <tr>\n      <th>max</th>\n      <td>371249.000000</td>\n      <td>672804.000000</td>\n      <td>336402.000000</td>\n      <td>-2961.000000</td>\n      <td>39984.000000</td>\n      <td>336402.000000</td>\n    </tr>\n  </tbody>\n</table>\n</div>"
     },
     "metadata": {},
     "execution_count": 60
    }
   ],
   "source": [
    "df_armonizacion.describe()"
   ]
  },
  {
   "cell_type": "markdown",
   "metadata": {},
   "source": [
    "Se aprecia en la tabla superior que:\n",
    "* No existen dos productos iguales en este caso.\n",
    "* El producto 4 tiene, al momento de analizar los datos, un registro menos que el producto 5.\n",
    "* Las medias de casos tienen grandes diferencias:\n",
    "    * `mean(casos_prod2) = 117.391,54`\n",
    "    * `mean(casos_prod4) = 238.069,94`\n",
    "    * `mean(casos_prod5) = 118.919,69`\n",
    "* Las medianas de casos tienen grandes diferencias:\n",
    "    * `median(casos_prod2) = 46.022`\n",
    "    * `median(casos_prod4) = 66.102`\n",
    "    * `median(casos_prod5) = 31.721`\n",
    "* Entre el producto 4 y 5, la mínima diferencia de casos es 1 caso, mientras que el máximo es de 336.402. No sólo ambos productos son diferentes, sino el producto 4 siempre contiene más casos.\n",
    "\n",
    "Teniendo estos resultados, llama la atención la discrepancia en los números, teniendo las mismas fuentes. Un control de calidad en las agregaciones es imperativa y urgente."
   ]
  }
 ]
}